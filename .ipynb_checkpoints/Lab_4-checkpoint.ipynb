{
 "cells": [
  {
   "cell_type": "markdown",
   "id": "765405a9",
   "metadata": {},
   "source": [
    "### Task 0: \n",
    "Execute the notebook."
   ]
  },
  {
   "cell_type": "markdown",
   "id": "b6b2fabb",
   "metadata": {},
   "source": [
    "### Functions from lab 3"
   ]
  },
  {
   "cell_type": "code",
   "execution_count": 3,
   "id": "1aff2dbc",
   "metadata": {},
   "outputs": [],
   "source": [
    "import nltk\n",
    "from nltk.corpus import twitter_samples\n",
    "from nltk.stem.wordnet import WordNetLemmatizer\n",
    "from nltk.corpus import stopwords\n",
    "from nltk import pos_tag\n",
    "import re\n",
    "import string\n",
    "from nltk.corpus import wordnet"
   ]
  },
  {
   "cell_type": "code",
   "execution_count": 4,
   "id": "4b16d266",
   "metadata": {},
   "outputs": [],
   "source": [
    "stop_words = stopwords.words('english')\n",
    "lemmatizer = WordNetLemmatizer()\n",
    "def process_tokens(tweet_tokens):\n",
    "    cleaned_tokens = []\n",
    "\n",
    "    def get_wordnet_pos(tag):\n",
    "        if tag.startswith('NN'):\n",
    "            return wordnet.NOUN\n",
    "        elif tag.startswith('VB'):\n",
    "            return wordnet.VERB\n",
    "        elif tag.startswith('JJ'):\n",
    "            return wordnet.ADJ\n",
    "        elif tag.startswith('RB'):\n",
    "            return wordnet.ADV\n",
    "        else:\n",
    "            return wordnet.NOUN \n",
    "\n",
    "    for token, tag in pos_tag(tweet_tokens):\n",
    "        token_lower = token.lower()\n",
    "        # Delete URLs and mentions\n",
    "        if re.match(r'^https?://', token_lower) or token_lower.startswith('@'):\n",
    "            continue\n",
    "        if token_lower in stop_words or token_lower in string.punctuation:\n",
    "            continue\n",
    "\n",
    "        pos = get_wordnet_pos(tag)\n",
    "        lemmatized_token = lemmatizer.lemmatize(token_lower, pos)\n",
    "        cleaned_tokens.append(lemmatized_token)\n",
    "\n",
    "    return cleaned_tokens"
   ]
  },
  {
   "cell_type": "code",
   "execution_count": 5,
   "id": "875515d4",
   "metadata": {},
   "outputs": [],
   "source": [
    "positive_tweet_tokens = twitter_samples.tokenized('positive_tweets.json')\n",
    "negative_tweet_tokens = twitter_samples.tokenized('negative_tweets.json')\n",
    "\n",
    "positive_cleaned_tokens_list = [process_tokens(tokens) for tokens in positive_tweet_tokens]\n",
    "negative_cleaned_tokens_list = [process_tokens(tokens) for tokens in negative_tweet_tokens]"
   ]
  },
  {
   "cell_type": "code",
   "execution_count": 6,
   "id": "ce438fd3",
   "metadata": {},
   "outputs": [
    {
     "data": {
      "text/plain": [
       "['#followfriday', 'top', 'engage', 'member', 'community', 'week', ':)']"
      ]
     },
     "execution_count": 6,
     "metadata": {},
     "output_type": "execute_result"
    }
   ],
   "source": [
    "[tweet_tokens for tweet_tokens in positive_cleaned_tokens_list][0]"
   ]
  },
  {
   "cell_type": "code",
   "execution_count": 7,
   "id": "c5ebc2f5",
   "metadata": {},
   "outputs": [],
   "source": [
    "def get_token_dict(tokens):\n",
    "    return dict([token, True] for token in tokens)\n",
    "    \n",
    "def get_tweets_for_model(cleaned_tokens_list):   \n",
    "    return [get_token_dict(tweet_tokens) for tweet_tokens in cleaned_tokens_list]\n",
    "\n",
    "positive_tokens_for_model = get_tweets_for_model(positive_cleaned_tokens_list)\n",
    "negative_tokens_for_model = get_tweets_for_model(negative_cleaned_tokens_list)"
   ]
  },
  {
   "cell_type": "code",
   "execution_count": 8,
   "id": "a1ef72d9",
   "metadata": {},
   "outputs": [],
   "source": [
    "import random\n",
    "\n",
    "positive_dataset = [(tweet_dict, \"Positive\")\n",
    "                     for tweet_dict in positive_tokens_for_model]\n",
    "\n",
    "negative_dataset = [(tweet_dict, \"Negative\")\n",
    "                     for tweet_dict in negative_tokens_for_model]\n",
    "\n",
    "dataset = positive_dataset + negative_dataset\n",
    "\n",
    "random.shuffle(dataset)\n",
    "\n",
    "train_data = dataset[:7000]\n",
    "test_data = dataset[7000:]"
   ]
  },
  {
   "cell_type": "markdown",
   "id": "a4c976e7",
   "metadata": {},
   "source": [
    "### Running Naive Bayes Classifier"
   ]
  },
  {
   "cell_type": "code",
   "execution_count": 10,
   "id": "78a7b3e0",
   "metadata": {},
   "outputs": [
    {
     "name": "stdout",
     "output_type": "stream",
     "text": [
      "Accuracy is: 0.994\n",
      "Most Informative Features\n",
      "                      :) = True           Positi : Negati =   1005.7 : 1.0\n",
      "                follower = True           Positi : Negati =     21.4 : 1.0\n",
      "                     sad = True           Negati : Positi =     19.8 : 1.0\n",
      "                  arrive = True           Positi : Negati =     18.1 : 1.0\n",
      "                 welcome = True           Positi : Negati =     15.3 : 1.0\n",
      "                followed = True           Negati : Positi =     15.1 : 1.0\n",
      "               community = True           Positi : Negati =     13.2 : 1.0\n",
      "                     ugh = True           Negati : Positi =     12.8 : 1.0\n",
      "               goodnight = True           Positi : Negati =     12.5 : 1.0\n",
      "                  friday = True           Positi : Negati =     12.3 : 1.0\n",
      "None\n"
     ]
    }
   ],
   "source": [
    "from nltk import classify\n",
    "from nltk import NaiveBayesClassifier\n",
    "classifier = NaiveBayesClassifier.train(train_data)\n",
    "\n",
    "print(\"Accuracy is:\", classify.accuracy(classifier, test_data))\n",
    "\n",
    "print(classifier.show_most_informative_features(10))"
   ]
  },
  {
   "cell_type": "code",
   "execution_count": 11,
   "id": "84ed3798",
   "metadata": {},
   "outputs": [
    {
     "name": "stdout",
     "output_type": "stream",
     "text": [
      "Negative\n"
     ]
    }
   ],
   "source": [
    "from nltk.tokenize import word_tokenize\n",
    "custom_tweet = \"the service was so bad\"\n",
    "custom_tokens = process_tokens(word_tokenize(custom_tweet))\n",
    "print(classifier.classify(get_token_dict(custom_tokens)))"
   ]
  },
  {
   "cell_type": "code",
   "execution_count": 12,
   "id": "cd04c09f",
   "metadata": {},
   "outputs": [
    {
     "name": "stdout",
     "output_type": "stream",
     "text": [
      "bad :  Negative\n",
      "service is bad :  Negative\n",
      "service is really bad :  Negative\n",
      "service is so terrible :  Negative\n",
      "great service :  Positive\n",
      "they stole my money :  Negative\n"
     ]
    }
   ],
   "source": [
    "def get_sentiment(text):\n",
    "    custom_tokens = process_tokens(word_tokenize(text))\n",
    "    return classifier.classify(get_token_dict(custom_tokens))\n",
    "\n",
    "texts = [\"bad\", \"service is bad\", \"service is really bad\", \"service is so terrible\", \"great service\", \"they stole my money\"]\n",
    "for t in texts:\n",
    "    print(t, \": \", get_sentiment(t))"
   ]
  },
  {
   "cell_type": "markdown",
   "id": "b03ef680",
   "metadata": {},
   "source": [
    "### Task 1:\n",
    "Re-train the classifier on a different set of data. For instance, use a dataset from HuggingFace or Kaggle."
   ]
  },
  {
   "cell_type": "code",
   "execution_count": 14,
   "id": "c4b9fb8a",
   "metadata": {},
   "outputs": [],
   "source": [
    "from datasets import load_dataset"
   ]
  },
  {
   "cell_type": "code",
   "execution_count": 15,
   "id": "01f1ebef",
   "metadata": {},
   "outputs": [
    {
     "data": {
      "application/vnd.jupyter.widget-view+json": {
       "model_id": "42440e999ffe4c9ca0ebfdc1eb482822",
       "version_major": 2,
       "version_minor": 0
      },
      "text/plain": [
       "README.md:   0%|          | 0.00/1.19k [00:00<?, ?B/s]"
      ]
     },
     "metadata": {},
     "output_type": "display_data"
    },
    {
     "name": "stderr",
     "output_type": "stream",
     "text": [
      "D:\\ana\\Lib\\site-packages\\huggingface_hub\\file_download.py:143: UserWarning: `huggingface_hub` cache-system uses symlinks by default to efficiently store duplicated files but your machine does not support them in C:\\Users\\член\\.cache\\huggingface\\hub\\datasets--gxb912--large-twitter-tweets-sentiment. Caching files will still work but in a degraded version that might require more space on your disk. This warning can be disabled by setting the `HF_HUB_DISABLE_SYMLINKS_WARNING` environment variable. For more details, see https://huggingface.co/docs/huggingface_hub/how-to-cache#limitations.\n",
      "To support symlinks on Windows, you either need to activate Developer Mode or to run Python as an administrator. In order to activate developer mode, see this article: https://docs.microsoft.com/en-us/windows/apps/get-started/enable-your-device-for-development\n",
      "  warnings.warn(message)\n"
     ]
    },
    {
     "data": {
      "application/vnd.jupyter.widget-view+json": {
       "model_id": "5bce7a06e06b4f268c4f7567374afbdc",
       "version_major": 2,
       "version_minor": 0
      },
      "text/plain": [
       "train.csv:   0%|          | 0.00/14.6M [00:00<?, ?B/s]"
      ]
     },
     "metadata": {},
     "output_type": "display_data"
    },
    {
     "data": {
      "application/vnd.jupyter.widget-view+json": {
       "model_id": "e9c42d07d4db41c5806de4cc40f45773",
       "version_major": 2,
       "version_minor": 0
      },
      "text/plain": [
       "test.csv:   0%|          | 0.00/3.65M [00:00<?, ?B/s]"
      ]
     },
     "metadata": {},
     "output_type": "display_data"
    },
    {
     "data": {
      "application/vnd.jupyter.widget-view+json": {
       "model_id": "bd09a17bdabe4a32b98303322f469104",
       "version_major": 2,
       "version_minor": 0
      },
      "text/plain": [
       "Generating train split:   0%|          | 0/179995 [00:00<?, ? examples/s]"
      ]
     },
     "metadata": {},
     "output_type": "display_data"
    },
    {
     "data": {
      "application/vnd.jupyter.widget-view+json": {
       "model_id": "ddc9ca3c8d7b4946ab2fa4f6a3666929",
       "version_major": 2,
       "version_minor": 0
      },
      "text/plain": [
       "Generating test split:   0%|          | 0/44999 [00:00<?, ? examples/s]"
      ]
     },
     "metadata": {},
     "output_type": "display_data"
    }
   ],
   "source": [
    "dataset = load_dataset(\"gxb912/large-twitter-tweets-sentiment\")"
   ]
  },
  {
   "cell_type": "code",
   "execution_count": 16,
   "id": "59402dea",
   "metadata": {},
   "outputs": [],
   "source": [
    "def get_token_dict(tokens):\n",
    "    return dict([token, True] for token in tokens)\n",
    "\n",
    "def get_tweets_for_model(cleaned_tokens_list):\n",
    "    return [get_token_dict(tweet_tokens) for tweet_tokens in cleaned_tokens_list]"
   ]
  },
  {
   "cell_type": "code",
   "execution_count": 17,
   "id": "cc64f25a",
   "metadata": {},
   "outputs": [],
   "source": [
    "positive_cleaned_tokens_list = []\n",
    "negative_cleaned_tokens_list = []\n",
    "\n",
    "for example in dataset['train']:\n",
    "    tokens = word_tokenize(example['text'])\n",
    "    cleaned_tokens = process_tokens(tokens)\n",
    "    if example['sentiment'] == 1:\n",
    "        positive_cleaned_tokens_list.append(cleaned_tokens)\n",
    "    else:\n",
    "        negative_cleaned_tokens_list.append(cleaned_tokens)\n",
    "\n",
    "positive_tokens_for_model = get_tweets_for_model(positive_cleaned_tokens_list)\n",
    "negative_tokens_for_model = get_tweets_for_model(negative_cleaned_tokens_list)"
   ]
  },
  {
   "cell_type": "code",
   "execution_count": 18,
   "id": "9913587c",
   "metadata": {},
   "outputs": [],
   "source": [
    "import random\n",
    "\n",
    "positive_dataset = [(tweet_dict, \"Positive\") for tweet_dict in positive_tokens_for_model]\n",
    "negative_dataset = [(tweet_dict, \"Negative\") for tweet_dict in negative_tokens_for_model]\n",
    "\n",
    "dataset_combined = positive_dataset + negative_dataset\n",
    "random.shuffle(dataset_combined)\n",
    "\n",
    "train_data = dataset_combined[:7000]\n",
    "test_data = dataset_combined[7000:]"
   ]
  },
  {
   "cell_type": "code",
   "execution_count": 19,
   "id": "dd1b8a65",
   "metadata": {},
   "outputs": [
    {
     "name": "stdout",
     "output_type": "stream",
     "text": [
      "Accuracy is: 0.7019220208676551\n",
      "Most Informative Features\n",
      "                    sick = True           Negati : Positi =     29.2 : 1.0\n",
      "                    poor = True           Negati : Positi =     21.4 : 1.0\n",
      "                    hurt = True           Negati : Positi =     19.7 : 1.0\n",
      "                     sad = True           Negati : Positi =     19.1 : 1.0\n",
      "                    crap = True           Negati : Positi =     13.4 : 1.0\n",
      "                     100 = True           Positi : Negati =     11.9 : 1.0\n",
      "            followfriday = True           Positi : Negati =     11.3 : 1.0\n",
      "                     ugh = True           Negati : Positi =     11.0 : 1.0\n",
      "                     vip = True           Positi : Negati =     10.2 : 1.0\n",
      "                    hate = True           Negati : Positi =      9.9 : 1.0\n"
     ]
    }
   ],
   "source": [
    "from nltk import classify\n",
    "from nltk import NaiveBayesClassifier\n",
    "\n",
    "classifier = NaiveBayesClassifier.train(train_data)\n",
    "\n",
    "print(\"Accuracy is:\", classify.accuracy(classifier, test_data))\n",
    "classifier.show_most_informative_features(10)"
   ]
  },
  {
   "cell_type": "code",
   "execution_count": 20,
   "id": "602d669c",
   "metadata": {},
   "outputs": [
    {
     "name": "stdout",
     "output_type": "stream",
     "text": [
      "bad : Negative\n",
      "service is bad : Negative\n",
      "service is really bad : Negative\n",
      "service is so terrible : Negative\n",
      "great service : Positive\n",
      "they stole my money : Negative\n"
     ]
    }
   ],
   "source": [
    "def get_sentiment(text):\n",
    "    tokens = word_tokenize(text)\n",
    "    cleaned_tokens = process_tokens(tokens)\n",
    "    return classifier.classify(get_token_dict(cleaned_tokens))\n",
    "\n",
    "texts = [\"bad\", \"service is bad\", \"service is really bad\", \"service is so terrible\", \"great service\", \"they stole my money\"]\n",
    "for t in texts:\n",
    "    print(f\"{t} : {get_sentiment(t)}\")"
   ]
  },
  {
   "cell_type": "markdown",
   "id": "90a6ed15",
   "metadata": {},
   "source": [
    "### Task 2:\n",
    "Try to use Logistic Regression classifier instead and compare the results with Naive Bayes."
   ]
  },
  {
   "cell_type": "code",
   "execution_count": 22,
   "id": "6e57f564",
   "metadata": {},
   "outputs": [],
   "source": [
    "from sklearn.feature_extraction import DictVectorizer\n",
    "from sklearn.linear_model import LogisticRegression\n",
    "from sklearn.metrics import accuracy_score, classification_report\n",
    "\n",
    "X_dict = [x[0] for x in dataset_combined]\n",
    "y = [x[1] for x in dataset_combined]\n",
    "\n",
    "vectorizer = DictVectorizer(sparse=True)\n",
    "X = vectorizer.fit_transform(X_dict)\n",
    "\n",
    "X_train = X[:7000]\n",
    "X_test = X[7000:]\n",
    "y_train = y[:7000]\n",
    "y_test = y[7000:]"
   ]
  },
  {
   "cell_type": "code",
   "execution_count": 23,
   "id": "57341065",
   "metadata": {},
   "outputs": [
    {
     "name": "stdout",
     "output_type": "stream",
     "text": [
      "Logistic Regression Accuracy: 0.7317725945836585\n",
      "              precision    recall  f1-score   support\n",
      "\n",
      "    Negative       0.72      0.60      0.65     72941\n",
      "    Positive       0.74      0.83      0.78    100054\n",
      "\n",
      "    accuracy                           0.73    172995\n",
      "   macro avg       0.73      0.71      0.72    172995\n",
      "weighted avg       0.73      0.73      0.73    172995\n",
      "\n"
     ]
    }
   ],
   "source": [
    "log_reg = LogisticRegression(max_iter=1000)\n",
    "log_reg.fit(X_train, y_train)\n",
    "\n",
    "y_pred = log_reg.predict(X_test)\n",
    "print(\"Logistic Regression Accuracy:\", accuracy_score(y_test, y_pred))\n",
    "print(classification_report(y_test, y_pred))"
   ]
  },
  {
   "cell_type": "code",
   "execution_count": 24,
   "id": "284ca637",
   "metadata": {},
   "outputs": [
    {
     "name": "stdout",
     "output_type": "stream",
     "text": [
      "Naive Bayes Accuracy: 0.7019220208676551\n"
     ]
    }
   ],
   "source": [
    "print(\"Naive Bayes Accuracy:\", classify.accuracy(classifier, test_data))"
   ]
  },
  {
   "cell_type": "code",
   "execution_count": 25,
   "id": "d4dedd61",
   "metadata": {},
   "outputs": [
    {
     "name": "stdout",
     "output_type": "stream",
     "text": [
      "bad : Negative\n",
      "service is bad : Negative\n",
      "service is really bad : Negative\n",
      "service is so terrible : Negative\n",
      "great service : Positive\n",
      "they stole my money : Negative\n"
     ]
    }
   ],
   "source": [
    "def get_sentiment_logreg(text):\n",
    "    tokens = word_tokenize(text)\n",
    "    cleaned_tokens = process_tokens(tokens)\n",
    "    token_dict = get_token_dict(cleaned_tokens)\n",
    "    X_new = vectorizer.transform([token_dict])\n",
    "    return log_reg.predict(X_new)[0]\n",
    "\n",
    "texts = [\"bad\", \"service is bad\", \"service is really bad\", \"service is so terrible\", \"great service\", \"they stole my money\"]\n",
    "for t in texts:\n",
    "    print(f\"{t} : {get_sentiment_logreg(t)}\")"
   ]
  }
 ],
 "metadata": {
  "kernelspec": {
   "display_name": "Python 3 (ipykernel)",
   "language": "python",
   "name": "python3"
  },
  "language_info": {
   "codemirror_mode": {
    "name": "ipython",
    "version": 3
   },
   "file_extension": ".py",
   "mimetype": "text/x-python",
   "name": "python",
   "nbconvert_exporter": "python",
   "pygments_lexer": "ipython3",
   "version": "3.12.3"
  }
 },
 "nbformat": 4,
 "nbformat_minor": 5
}
