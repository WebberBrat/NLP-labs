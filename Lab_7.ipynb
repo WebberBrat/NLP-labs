{
 "cells": [
  {
   "cell_type": "markdown",
   "id": "83a4aa5e",
   "metadata": {},
   "source": [
    "### Task 0: \n",
    "Using https://www.nltk.org/howto/corpus.html#overview, implement TF-IDF vectorizer for e.g. Treebank corpus"
   ]
  },
  {
   "cell_type": "code",
   "execution_count": 2,
   "id": "aefcc55d",
   "metadata": {},
   "outputs": [
    {
     "name": "stderr",
     "output_type": "stream",
     "text": [
      "[nltk_data] Downloading package treebank to\n",
      "[nltk_data]     C:\\Users\\член\\AppData\\Roaming\\nltk_data...\n",
      "[nltk_data]   Package treebank is already up-to-date!\n"
     ]
    },
    {
     "name": "stdout",
     "output_type": "stream",
     "text": [
      "Number of documents: 100\n",
      "Vocabulary size: 6344\n",
      "\n",
      "Top 10 terms in first document by TF-IDF score:\n",
      "vinken: 6.6405\n",
      "pierre: 3.9220\n",
      "elsevier: 3.9220\n",
      "dutch: 3.9220\n",
      "join: 3.2288\n",
      "nonexecutive: 2.8234\n",
      "publishing: 2.8234\n",
      "old: 1.9761\n",
      "director: 1.6707\n",
      "board: 1.5241\n"
     ]
    }
   ],
   "source": [
    "import nltk\n",
    "from nltk.corpus import treebank\n",
    "import math\n",
    "from collections import defaultdict\n",
    "\n",
    "nltk.download('treebank')\n",
    "\n",
    "class TFIDFVectorizer:\n",
    "    def __init__(self):\n",
    "        self.doc_freq = defaultdict(int)\n",
    "        self.total_docs = 0               \n",
    "        self.vocab = set()              \n",
    "        self.idf = {}                    \n",
    "        \n",
    "    def fit(self, documents):\n",
    "        \"\"\"Calculate IDF values from the document collection\"\"\"\n",
    "        self.total_docs = len(documents)\n",
    "        \n",
    "        # Calculate document frequency for each term\n",
    "        for doc in documents:\n",
    "            unique_terms = set(doc)\n",
    "            for term in unique_terms:\n",
    "                self.doc_freq[term] += 1\n",
    "                self.vocab.add(term)\n",
    "        # Calculate IDF for each term\n",
    "        for term in self.vocab:\n",
    "            self.idf[term] = math.log((self.total_docs + 1) / (self.doc_freq[term] + 1))\n",
    "    \n",
    "    def transform(self, documents):\n",
    "        tfidf_vectors = []\n",
    "        for doc in documents:\n",
    "            # Calculate term frequencies for this document\n",
    "            term_counts = defaultdict(int)\n",
    "            for term in doc:\n",
    "                term_counts[term] += 1\n",
    "            \n",
    "            # Calculate TF-IDF for each term in THIS document\n",
    "            tfidf_vector = {}\n",
    "            for term in term_counts: \n",
    "                count = term_counts[term]\n",
    "                if count > 0:\n",
    "                    tf = 1 + math.log(count)\n",
    "                else:\n",
    "                    tf = 0\n",
    "                \n",
    "                tfidf_vector[term] = tf * self.idf.get(term, 0)\n",
    "            \n",
    "            tfidf_vectors.append(tfidf_vector)\n",
    "        \n",
    "        return tfidf_vectors\n",
    "    \n",
    "    def fit_transform(self, documents):\n",
    "        \"\"\"Fit and transform in one step\"\"\"\n",
    "        self.fit(documents)\n",
    "        return self.transform(documents)\n",
    "\n",
    "def preprocess_document(doc):\n",
    "    return [word.lower() for word in doc if word.isalpha() and len(word) > 2]\n",
    "\n",
    "documents = [preprocess_document(treebank.words(fileid)) \n",
    "             for fileid in treebank.fileids()[:100]]  \n",
    "\n",
    "# Create and fit the TF-IDF vectorizer\n",
    "vectorizer = TFIDFVectorizer()\n",
    "tfidf_vectors = vectorizer.fit_transform(documents)\n",
    "\n",
    "# Print some information\n",
    "print(f\"Number of documents: {len(documents)}\")\n",
    "print(f\"Vocabulary size: {len(vectorizer.vocab)}\")\n",
    "\n",
    "# Get the first document's vector and sort terms by TF-IDF score\n",
    "first_doc_vector = tfidf_vectors[0]\n",
    "sorted_terms = sorted(first_doc_vector.items(), key=lambda x: x[1], reverse=True)\n",
    "\n",
    "print(\"\\nTop 10 terms in first document by TF-IDF score:\")\n",
    "for term, score in sorted_terms[:10]:\n",
    "    print(f\"{term}: {score:.4f}\")"
   ]
  }
 ],
 "metadata": {
  "kernelspec": {
   "display_name": "Python 3 (ipykernel)",
   "language": "python",
   "name": "python3"
  },
  "language_info": {
   "codemirror_mode": {
    "name": "ipython",
    "version": 3
   },
   "file_extension": ".py",
   "mimetype": "text/x-python",
   "name": "python",
   "nbconvert_exporter": "python",
   "pygments_lexer": "ipython3",
   "version": "3.12.3"
  }
 },
 "nbformat": 4,
 "nbformat_minor": 5
}
