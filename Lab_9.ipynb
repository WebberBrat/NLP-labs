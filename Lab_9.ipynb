{
 "cells": [
  {
   "cell_type": "markdown",
   "id": "b39c9a1c",
   "metadata": {},
   "source": [
    "### Examples from lab"
   ]
  },
  {
   "cell_type": "code",
   "execution_count": 1,
   "id": "71c79d4c",
   "metadata": {},
   "outputs": [],
   "source": [
    "import gensim\n",
    "\n",
    "assert gensim.models.doc2vec.FAST_VERSION > -1"
   ]
  },
  {
   "cell_type": "code",
   "execution_count": 2,
   "id": "48efe8fd",
   "metadata": {},
   "outputs": [],
   "source": [
    "import gensim\n",
    "import gensim.test.utils\n",
    "\n",
    "# Set file names for train and test data\n",
    "lee_train_file = gensim.test.utils.datapath('lee_background.cor')\n",
    "lee_test_file = gensim.test.utils.datapath('lee.cor')"
   ]
  },
  {
   "cell_type": "code",
   "execution_count": 3,
   "id": "5dcc40f3",
   "metadata": {},
   "outputs": [
    {
     "name": "stdout",
     "output_type": "stream",
     "text": [
      "TaggedDocument<['the', 'national', 'road', 'toll', 'for', 'the', 'christmas', 'new', 'year', 'holiday', 'period', 'stands', 'at', 'eight', 'fewer', 'than', 'for', 'the', 'same', 'time', 'last', 'year', 'people', 'have', 'died', 'on', 'new', 'south', 'wales', 'roads', 'with', 'eight', 'fatalities', 'in', 'both', 'queensland', 'and', 'victoria', 'western', 'australia', 'the', 'northern', 'territory', 'and', 'south', 'australia', 'have', 'each', 'recorded', 'three', 'deaths', 'while', 'the', 'act', 'and', 'tasmania', 'remain', 'fatality', 'free'], [2]>\n",
      "['the', 'united', 'states', 'government', 'has', 'said', 'it', 'wants', 'to', 'see', 'president', 'robert', 'mugabe', 'removed', 'from', 'power', 'and', 'that', 'it', 'is', 'working', 'with', 'the', 'zimbabwean', 'opposition', 'to', 'bring', 'about', 'change', 'of', 'administration', 'as', 'scores', 'of', 'white', 'farmers', 'went', 'into', 'hiding', 'to', 'escape', 'round', 'up', 'by', 'zimbabwean', 'police', 'senior', 'bush', 'administration', 'official', 'called', 'mr', 'mugabe', 'rule', 'illegitimate', 'and', 'irrational', 'and', 'said', 'that', 'his', 're', 'election', 'as', 'president', 'in', 'march', 'was', 'won', 'through', 'fraud', 'walter', 'kansteiner', 'the', 'assistant', 'secretary', 'of', 'state', 'for', 'african', 'affairs', 'went', 'on', 'to', 'blame', 'mr', 'mugabe', 'policies', 'for', 'contributing', 'to', 'the', 'threat', 'of', 'famine', 'in', 'zimbabwe']\n"
     ]
    }
   ],
   "source": [
    "import smart_open\n",
    "\n",
    "def read_corpus(fname, tokens_only=False):\n",
    "    with smart_open.open(fname, encoding=\"iso-8859-1\") as f:\n",
    "        for i, line in enumerate(f):\n",
    "            tokens = gensim.utils.simple_preprocess(line)\n",
    "            if tokens_only:\n",
    "                yield tokens\n",
    "            else:\n",
    "                # For training data, add tags\n",
    "                yield gensim.models.doc2vec.TaggedDocument(tokens, [i])\n",
    "\n",
    "train_corpus = list(read_corpus(lee_train_file))\n",
    "test_corpus = list(read_corpus(lee_test_file, tokens_only=True))\n",
    "\n",
    "print(train_corpus[2])\n",
    "print(test_corpus[2])"
   ]
  },
  {
   "cell_type": "code",
   "execution_count": 4,
   "id": "a7abfa72",
   "metadata": {},
   "outputs": [],
   "source": [
    "import gensim.models\n",
    "\n",
    "model = gensim.models.doc2vec.Doc2Vec(vector_size=50, min_count=2, epochs=40)"
   ]
  },
  {
   "cell_type": "code",
   "execution_count": 5,
   "id": "7e0849c8",
   "metadata": {},
   "outputs": [],
   "source": [
    "model.build_vocab(train_corpus)"
   ]
  },
  {
   "cell_type": "code",
   "execution_count": 6,
   "id": "69cae505",
   "metadata": {},
   "outputs": [],
   "source": [
    "model.train(train_corpus, total_examples=model.corpus_count, epochs=model.epochs)"
   ]
  },
  {
   "cell_type": "code",
   "execution_count": 7,
   "id": "70f3673a",
   "metadata": {},
   "outputs": [
    {
     "data": {
      "text/plain": [
       "<gensim.models.keyedvectors.KeyedVectors at 0x20ee611ba60>"
      ]
     },
     "execution_count": 7,
     "metadata": {},
     "output_type": "execute_result"
    }
   ],
   "source": [
    "model.dv"
   ]
  },
  {
   "cell_type": "code",
   "execution_count": 8,
   "id": "fa7a7d6b",
   "metadata": {},
   "outputs": [
    {
     "name": "stdout",
     "output_type": "stream",
     "text": [
      "[-0.21520542 -0.2505608  -0.02741721  0.24606045 -0.03637378  0.11938438\n",
      "  0.13880064  0.00824329 -0.17791064 -0.12373569  0.07246169  0.02520719\n",
      " -0.06957895 -0.00248159 -0.1750319  -0.04833046  0.02146124  0.11537363\n",
      "  0.19292526 -0.11860263 -0.06782593 -0.02835242  0.19102825  0.07415181\n",
      "  0.02622746 -0.07513429 -0.11854329 -0.02253022 -0.14705893 -0.00239915\n",
      "  0.2794211   0.15299292  0.24348325  0.07356468  0.1999081   0.20292024\n",
      " -0.14333631 -0.25024962 -0.03168344 -0.04608949  0.12515488 -0.03963595\n",
      " -0.02629471 -0.23895192  0.14269777  0.08968136 -0.0955759  -0.13183363\n",
      "  0.16588934  0.09215467]\n"
     ]
    }
   ],
   "source": [
    "vector = model.infer_vector(['Only', 'you', 'can', 'prevent', 'forest', 'fires'])\n",
    "print(vector)"
   ]
  },
  {
   "cell_type": "code",
   "execution_count": 9,
   "id": "78b525a3",
   "metadata": {},
   "outputs": [
    {
     "name": "stdout",
     "output_type": "stream",
     "text": [
      "Counter({0: 291, 1: 9})\n"
     ]
    }
   ],
   "source": [
    "ranks = []\n",
    "second_ranks = []\n",
    "for doc_id in range(len(train_corpus)):\n",
    "    inferred_vector = model.infer_vector(train_corpus[doc_id].words)\n",
    "    sims = model.dv.most_similar([inferred_vector], topn=len(model.dv))\n",
    "    rank = [docid for docid, sim in sims].index(doc_id)\n",
    "    ranks.append(rank)\n",
    "\n",
    "    second_ranks.append(sims[1])\n",
    "\n",
    "import collections\n",
    "\n",
    "counter = collections.Counter(ranks)\n",
    "print(counter)"
   ]
  },
  {
   "cell_type": "code",
   "execution_count": 10,
   "id": "d2a7d74a",
   "metadata": {},
   "outputs": [
    {
     "name": "stdout",
     "output_type": "stream",
     "text": [
      "Test Document (11): «intelligence cannot say conclusively that saddam hussein has weapons of mass destruction an information gap that is complicating white house efforts to build support for an attack on saddam iraqi regime the cia has advised top administration officials to assume that iraq has some weapons of mass destruction but the agency has not given president bush smoking gun according to intelligence and administration officials»\n",
      "\n",
      "SIMILAR/DISSIMILAR DOCS PER MODEL Doc2Vec<dm/m,d50,n5,w5,mc2,s0.001,t3>:\n",
      "\n",
      "MOST (75, 0.7830148339271545): «us president george bush has marked the th day of the campaign against terrorism by calling on his allies to freeze the assets of two non us organisations suspected of supporting terrorism one of the groups is based in kashmir the other is alleged to have helped al qaeda develop nuclear weapons president bush says former scientist at pakistan atomic program had established group called utn after assisting osama bin laden network develop nuclear bomb utn claims to serve the hungry and needy of afghanistan but it was the utn that provided information about nuclear weapons to al qaeda he said he also linked kashmiri group to the attack on the indian parliament last week lat is an extremist group based in kashmir and is stateless sponsor of terrorism he said mr bush says the international financial crackdown has frozen million in terrorist assets»\n",
      "\n",
      "MEDIAN (214, 0.3428010046482086): «the united states offered full and direct approval to indonesia invasion of east timor move by then president suharto which consigned the territory to years of oppression official documents released today showed the documents prove conclusively for the first time that the united states gave green light to the invasion the opening salvo in an occupation that cost the lives of up to east timorese general suharto briefed us president gerald ford and his secretary of state henry kissinger on his plans for the former portuguese colony hours before the invasion according to documents collected by george washington university national security archive when mr ford and mr kissinger called in to jakarta on their way back from summit in beijing on december suharto claimed that in the interests of asia and regional stability he had to bring stability to east timor to which portugal was trying to grant autonomy we want your understanding if we deem it necessary to take rapid or drastic action suharto told his visitors according to long classified state department cable mr ford replied we will understand and will not press you on the issue we understand the problem you have and the intentions you have mr kissinger who has denied the subject of timor came up during the talks appeared to be concerned about the domestic political implications of an indonesian invasion it is important that whatever you do succeeds quickly we would be able to influence the reaction in america if whatever happens happens after we return the president will be back on monday at pm jakarta time we understand your problem and the need to move quickly but am only saying that it would be better if it were done after we returned the invasion took place on december the day after the ford suharto meeting mr kissinger has consistently rejected criticism of the ford administration conduct on east timor during launch in for his book diplomacy mr kissinger said at new york hotel it was perhaps regrettable that for us officials the implications of indonesia timor policy were lost in blizzard of geo political issues following the vietnam war»\n",
      "\n",
      "LEAST (52, -0.12508343160152435): «skippers are expecting spectacular start to the th sydney to hobart yacht race today with the weather bureau forecasting spinnaker friendly westerly winds total of entrants are in this year race including eight round the world yachts which are expected to give last year line honours winner swedish maxi nicorette run for its money the round the world yachts are set for flying beginning with metre headstart designed to get them out of harm way the boats will have to round buoy further north near sydney heads to equalise the distance ludde ingvall the skipper of nicorette says the split start could help the maxis next year split starts are good and maybe next year they will move all the big boats into the front line so that we can get away without hitting somebody he said skipper ingvall says his start tactics are easy at the start it easy don break and don collide and don go around and don make yourself look silly he said the new south wales weather bureau says there is possibility of waves of up to five metres in bass strait for this year sydney to hobart yacht race severe weather forecaster ken batt says if low pressure system develops more off tasmania the worst case scenario could be strong winds and large seas as the yachts hit the stronger winds in bass strait you be looking at say four to five metre significant wave heights mr batt said»\n",
      "\n"
     ]
    }
   ],
   "source": [
    "import random\n",
    "\n",
    "# Pick a random document from the test corpus and infer a vector from the model\n",
    "doc_id = random.randint(0, len(test_corpus) - 1)\n",
    "inferred_vector = model.infer_vector(test_corpus[doc_id])\n",
    "sims = model.dv.most_similar([inferred_vector], topn=len(model.dv))\n",
    "\n",
    "# Compare and print the most/median/least similar documents from the train corpus\n",
    "print('Test Document ({}): «{}»\\n'.format(doc_id, ' '.join(test_corpus[doc_id])))\n",
    "print(u'SIMILAR/DISSIMILAR DOCS PER MODEL %s:\\n' % model)\n",
    "for label, index in [('MOST', 0), ('MEDIAN', len(sims)//2), ('LEAST', len(sims) - 1)]:\n",
    "    print(u'%s %s: «%s»\\n' % (label, sims[index], ' '.join(train_corpus[sims[index][0]].words)))"
   ]
  },
  {
   "cell_type": "markdown",
   "id": "904a6a6c",
   "metadata": {},
   "source": [
    "### Task 0:\n",
    " Train your own doc2vec model on a test dataset. "
   ]
  },
  {
   "cell_type": "code",
   "execution_count": 11,
   "id": "d625618c",
   "metadata": {},
   "outputs": [
    {
     "name": "stdout",
     "output_type": "stream",
     "text": [
      "Requirement already satisfied: fastparquet in d:\\ana\\envs\\nlp-env\\lib\\site-packages (2024.11.0)\n",
      "Requirement already satisfied: pandas>=1.5.0 in d:\\ana\\envs\\nlp-env\\lib\\site-packages (from fastparquet) (2.3.0)\n",
      "Requirement already satisfied: numpy in d:\\ana\\envs\\nlp-env\\lib\\site-packages (from fastparquet) (1.25.2)\n",
      "Requirement already satisfied: cramjam>=2.3 in d:\\ana\\envs\\nlp-env\\lib\\site-packages (from fastparquet) (2.10.0)\n",
      "Requirement already satisfied: fsspec in d:\\ana\\envs\\nlp-env\\lib\\site-packages (from fastparquet) (2025.5.1)\n",
      "Requirement already satisfied: packaging in d:\\ana\\envs\\nlp-env\\lib\\site-packages (from fastparquet) (24.2)\n",
      "Requirement already satisfied: python-dateutil>=2.8.2 in d:\\ana\\envs\\nlp-env\\lib\\site-packages (from pandas>=1.5.0->fastparquet) (2.9.0.post0)\n",
      "Requirement already satisfied: pytz>=2020.1 in d:\\ana\\envs\\nlp-env\\lib\\site-packages (from pandas>=1.5.0->fastparquet) (2025.2)\n",
      "Requirement already satisfied: tzdata>=2022.7 in d:\\ana\\envs\\nlp-env\\lib\\site-packages (from pandas>=1.5.0->fastparquet) (2025.2)\n",
      "Requirement already satisfied: six>=1.5 in d:\\ana\\envs\\nlp-env\\lib\\site-packages (from python-dateutil>=2.8.2->pandas>=1.5.0->fastparquet) (1.17.0)\n"
     ]
    }
   ],
   "source": [
    "!pip install fastparquet"
   ]
  },
  {
   "cell_type": "code",
   "execution_count": 13,
   "id": "93d0f76d",
   "metadata": {},
   "outputs": [
    {
     "data": {
      "text/html": [
       "<div>\n",
       "<style scoped>\n",
       "    .dataframe tbody tr th:only-of-type {\n",
       "        vertical-align: middle;\n",
       "    }\n",
       "\n",
       "    .dataframe tbody tr th {\n",
       "        vertical-align: top;\n",
       "    }\n",
       "\n",
       "    .dataframe thead th {\n",
       "        text-align: right;\n",
       "    }\n",
       "</style>\n",
       "<table border=\"1\" class=\"dataframe\">\n",
       "  <thead>\n",
       "    <tr style=\"text-align: right;\">\n",
       "      <th></th>\n",
       "      <th>Unnamed: 0.1</th>\n",
       "      <th>Unnamed: 0</th>\n",
       "      <th>title</th>\n",
       "      <th>abstract</th>\n",
       "    </tr>\n",
       "  </thead>\n",
       "  <tbody>\n",
       "    <tr>\n",
       "      <th>0</th>\n",
       "      <td>0</td>\n",
       "      <td>0.0</td>\n",
       "      <td>Learning from compressed observations</td>\n",
       "      <td>The problem of statistical learning is to co...</td>\n",
       "    </tr>\n",
       "    <tr>\n",
       "      <th>1</th>\n",
       "      <td>1</td>\n",
       "      <td>1.0</td>\n",
       "      <td>Sensor Networks with Random Links: Topology De...</td>\n",
       "      <td>In a sensor network, in practice, the commun...</td>\n",
       "    </tr>\n",
       "    <tr>\n",
       "      <th>2</th>\n",
       "      <td>2</td>\n",
       "      <td>2.0</td>\n",
       "      <td>The on-line shortest path problem under partia...</td>\n",
       "      <td>The on-line shortest path problem is conside...</td>\n",
       "    </tr>\n",
       "    <tr>\n",
       "      <th>3</th>\n",
       "      <td>3</td>\n",
       "      <td>3.0</td>\n",
       "      <td>A neural network approach to ordinal regression</td>\n",
       "      <td>Ordinal regression is an important type of l...</td>\n",
       "    </tr>\n",
       "    <tr>\n",
       "      <th>4</th>\n",
       "      <td>4</td>\n",
       "      <td>4.0</td>\n",
       "      <td>Parametric Learning and Monte Carlo Optimization</td>\n",
       "      <td>This paper uncovers and explores the close r...</td>\n",
       "    </tr>\n",
       "    <tr>\n",
       "      <th>...</th>\n",
       "      <td>...</td>\n",
       "      <td>...</td>\n",
       "      <td>...</td>\n",
       "      <td>...</td>\n",
       "    </tr>\n",
       "    <tr>\n",
       "      <th>117587</th>\n",
       "      <td>4995</td>\n",
       "      <td>NaN</td>\n",
       "      <td>Detecting COVID-19 Conspiracy Theories with Tr...</td>\n",
       "      <td>The sharing of fake news and conspiracy theori...</td>\n",
       "    </tr>\n",
       "    <tr>\n",
       "      <th>117588</th>\n",
       "      <td>4996</td>\n",
       "      <td>NaN</td>\n",
       "      <td>Fair Feature Subset Selection using Multiobjec...</td>\n",
       "      <td>The feature subset selection problem aims at s...</td>\n",
       "    </tr>\n",
       "    <tr>\n",
       "      <th>117589</th>\n",
       "      <td>4997</td>\n",
       "      <td>NaN</td>\n",
       "      <td>A Simple Duality Proof for Wasserstein Distrib...</td>\n",
       "      <td>We present a short and elementary proof of the...</td>\n",
       "    </tr>\n",
       "    <tr>\n",
       "      <th>117590</th>\n",
       "      <td>4998</td>\n",
       "      <td>NaN</td>\n",
       "      <td>Combined Learning of Neural Network Weights fo...</td>\n",
       "      <td>We introduce CoLN, Combined Learning of Neural...</td>\n",
       "    </tr>\n",
       "    <tr>\n",
       "      <th>117591</th>\n",
       "      <td>4999</td>\n",
       "      <td>NaN</td>\n",
       "      <td>Adapting and Evaluating Influence-Estimation M...</td>\n",
       "      <td>Influence estimation analyzes how changes to t...</td>\n",
       "    </tr>\n",
       "  </tbody>\n",
       "</table>\n",
       "<p>117592 rows × 4 columns</p>\n",
       "</div>"
      ],
      "text/plain": [
       "        Unnamed: 0.1  Unnamed: 0  \\\n",
       "0                  0         0.0   \n",
       "1                  1         1.0   \n",
       "2                  2         2.0   \n",
       "3                  3         3.0   \n",
       "4                  4         4.0   \n",
       "...              ...         ...   \n",
       "117587          4995         NaN   \n",
       "117588          4996         NaN   \n",
       "117589          4997         NaN   \n",
       "117590          4998         NaN   \n",
       "117591          4999         NaN   \n",
       "\n",
       "                                                    title  \\\n",
       "0                   Learning from compressed observations   \n",
       "1       Sensor Networks with Random Links: Topology De...   \n",
       "2       The on-line shortest path problem under partia...   \n",
       "3         A neural network approach to ordinal regression   \n",
       "4        Parametric Learning and Monte Carlo Optimization   \n",
       "...                                                   ...   \n",
       "117587  Detecting COVID-19 Conspiracy Theories with Tr...   \n",
       "117588  Fair Feature Subset Selection using Multiobjec...   \n",
       "117589  A Simple Duality Proof for Wasserstein Distrib...   \n",
       "117590  Combined Learning of Neural Network Weights fo...   \n",
       "117591  Adapting and Evaluating Influence-Estimation M...   \n",
       "\n",
       "                                                 abstract  \n",
       "0         The problem of statistical learning is to co...  \n",
       "1         In a sensor network, in practice, the commun...  \n",
       "2         The on-line shortest path problem is conside...  \n",
       "3         Ordinal regression is an important type of l...  \n",
       "4         This paper uncovers and explores the close r...  \n",
       "...                                                   ...  \n",
       "117587  The sharing of fake news and conspiracy theori...  \n",
       "117588  The feature subset selection problem aims at s...  \n",
       "117589  We present a short and elementary proof of the...  \n",
       "117590  We introduce CoLN, Combined Learning of Neural...  \n",
       "117591  Influence estimation analyzes how changes to t...  \n",
       "\n",
       "[117592 rows x 4 columns]"
      ]
     },
     "execution_count": 13,
     "metadata": {},
     "output_type": "execute_result"
    }
   ],
   "source": [
    "import pandas as pd\n",
    "\n",
    "df = pd.read_csv(\"hf://datasets/CShorten/ML-ArXiv-Papers/ML-Arxiv-Papers.csv\")\n",
    "df"
   ]
  },
  {
   "cell_type": "code",
   "execution_count": 15,
   "id": "2ae67564",
   "metadata": {},
   "outputs": [
    {
     "name": "stdout",
     "output_type": "stream",
     "text": [
      "TaggedDocument<['the', 'on', 'line', 'shortest', 'path', 'problem', 'under', 'partial', 'monitoring', 'the', 'on', 'line', 'shortest', 'path', 'problem', 'is', 'considered', 'under', 'various', 'models', 'of', 'partial', 'monitoring', 'given', 'weighted', 'directed', 'acyclic', 'graph', 'whose', 'edge', 'weights', 'can', 'change', 'in', 'an', 'arbitrary', 'adversarial', 'way', 'decision', 'maker', 'has', 'to', 'choose', 'in', 'each', 'round', 'of', 'game', 'path', 'between', 'two', 'distinguished', 'vertices', 'such', 'that', 'the', 'loss', 'of', 'the', 'chosen', 'path', 'defined', 'as', 'the', 'sum', 'of', 'the', 'weights', 'of', 'its', 'composing', 'edges', 'be', 'as', 'small', 'as', 'possible', 'in', 'setting', 'generalizing', 'the', 'multi', 'armed', 'bandit', 'problem', 'after', 'choosing', 'path', 'the', 'decision', 'maker', 'learns', 'only', 'the', 'weights', 'of', 'those', 'edges', 'that', 'belong', 'to', 'the', 'chosen', 'path', 'for', 'this', 'problem', 'an', 'algorithm', 'is', 'given', 'whose', 'average', 'cumulative', 'loss', 'in', 'rounds', 'exceeds', 'that', 'of', 'the', 'best', 'path', 'matched', 'off', 'line', 'to', 'the', 'entire', 'sequence', 'of', 'the', 'edge', 'weights', 'by', 'quantity', 'that', 'is', 'proportional', 'to', 'sqrt', 'and', 'depends', 'only', 'polynomially', 'on', 'the', 'number', 'of', 'edges', 'of', 'the', 'graph', 'the', 'algorithm', 'can', 'be', 'implemented', 'with', 'linear', 'complexity', 'in', 'the', 'number', 'of', 'rounds', 'and', 'in', 'the', 'number', 'of', 'edges', 'an', 'extension', 'to', 'the', 'so', 'called', 'label', 'efficient', 'setting', 'is', 'also', 'given', 'in', 'which', 'the', 'decision', 'maker', 'is', 'informed', 'about', 'the', 'weights', 'of', 'the', 'edges', 'corresponding', 'to', 'the', 'chosen', 'path', 'at', 'total', 'of', 'time', 'instances', 'another', 'extension', 'is', 'shown', 'where', 'the', 'decision', 'maker', 'competes', 'against', 'time', 'varying', 'path', 'generalization', 'of', 'the', 'problem', 'of', 'tracking', 'the', 'best', 'expert', 'version', 'of', 'the', 'multi', 'armed', 'bandit', 'setting', 'for', 'shortest', 'path', 'is', 'also', 'discussed', 'where', 'the', 'decision', 'maker', 'learns', 'only', 'the', 'total', 'weight', 'of', 'the', 'chosen', 'path', 'but', 'not', 'the', 'weights', 'of', 'the', 'individual', 'edges', 'on', 'the', 'path', 'applications', 'to', 'routing', 'in', 'packet', 'switched', 'networks', 'along', 'with', 'simulation', 'results', 'are', 'also', 'presented'], [2]>\n",
      "['the', 'on', 'line', 'shortest', 'path', 'problem', 'under', 'partial', 'monitoring', 'the', 'on', 'line', 'shortest', 'path', 'problem', 'is', 'considered', 'under', 'various', 'models', 'of', 'partial', 'monitoring', 'given', 'weighted', 'directed', 'acyclic', 'graph', 'whose', 'edge', 'weights', 'can', 'change', 'in', 'an', 'arbitrary', 'adversarial', 'way', 'decision', 'maker', 'has', 'to', 'choose', 'in', 'each', 'round', 'of', 'game', 'path', 'between', 'two', 'distinguished', 'vertices', 'such', 'that', 'the', 'loss', 'of', 'the', 'chosen', 'path', 'defined', 'as', 'the', 'sum', 'of', 'the', 'weights', 'of', 'its', 'composing', 'edges', 'be', 'as', 'small', 'as', 'possible', 'in', 'setting', 'generalizing', 'the', 'multi', 'armed', 'bandit', 'problem', 'after', 'choosing', 'path', 'the', 'decision', 'maker', 'learns', 'only', 'the', 'weights', 'of', 'those', 'edges', 'that', 'belong', 'to', 'the', 'chosen', 'path', 'for', 'this', 'problem', 'an', 'algorithm', 'is', 'given', 'whose', 'average', 'cumulative', 'loss', 'in', 'rounds', 'exceeds', 'that', 'of', 'the', 'best', 'path', 'matched', 'off', 'line', 'to', 'the', 'entire', 'sequence', 'of', 'the', 'edge', 'weights', 'by', 'quantity', 'that', 'is', 'proportional', 'to', 'sqrt', 'and', 'depends', 'only', 'polynomially', 'on', 'the', 'number', 'of', 'edges', 'of', 'the', 'graph', 'the', 'algorithm', 'can', 'be', 'implemented', 'with', 'linear', 'complexity', 'in', 'the', 'number', 'of', 'rounds', 'and', 'in', 'the', 'number', 'of', 'edges', 'an', 'extension', 'to', 'the', 'so', 'called', 'label', 'efficient', 'setting', 'is', 'also', 'given', 'in', 'which', 'the', 'decision', 'maker', 'is', 'informed', 'about', 'the', 'weights', 'of', 'the', 'edges', 'corresponding', 'to', 'the', 'chosen', 'path', 'at', 'total', 'of', 'time', 'instances', 'another', 'extension', 'is', 'shown', 'where', 'the', 'decision', 'maker', 'competes', 'against', 'time', 'varying', 'path', 'generalization', 'of', 'the', 'problem', 'of', 'tracking', 'the', 'best', 'expert', 'version', 'of', 'the', 'multi', 'armed', 'bandit', 'setting', 'for', 'shortest', 'path', 'is', 'also', 'discussed', 'where', 'the', 'decision', 'maker', 'learns', 'only', 'the', 'total', 'weight', 'of', 'the', 'chosen', 'path', 'but', 'not', 'the', 'weights', 'of', 'the', 'individual', 'edges', 'on', 'the', 'path', 'applications', 'to', 'routing', 'in', 'packet', 'switched', 'networks', 'along', 'with', 'simulation', 'results', 'are', 'also', 'presented']\n"
     ]
    }
   ],
   "source": [
    "df[\"text\"] = (df[\"title\"].fillna('') + \" \" + df[\"abstract\"].fillna('')).str.strip()\n",
    "\n",
    "\n",
    "texts = df[\"text\"].astype(str).tolist()\n",
    "def preprocess_parquet(texts, tokens_only=False):\n",
    "    for i, text in enumerate(texts):\n",
    "        tokens = gensim.utils.simple_preprocess(text)\n",
    "        if tokens_only:\n",
    "            yield tokens\n",
    "        else:\n",
    "            yield gensim.models.doc2vec.TaggedDocument(tokens, [i])\n",
    "\n",
    "\n",
    "train_corpus = list(preprocess_parquet(texts))\n",
    "test_corpus = list(preprocess_parquet(texts, tokens_only=True))  \n",
    "\n",
    "print(train_corpus[2])\n",
    "print(test_corpus[2])"
   ]
  },
  {
   "cell_type": "code",
   "execution_count": 16,
   "id": "77ef5528",
   "metadata": {},
   "outputs": [],
   "source": [
    "import gensim.models\n",
    "\n",
    "model = gensim.models.doc2vec.Doc2Vec(vector_size=50, min_count=2, epochs=40)"
   ]
  },
  {
   "cell_type": "code",
   "execution_count": 17,
   "id": "b5ba75f0",
   "metadata": {},
   "outputs": [],
   "source": [
    "model.build_vocab(train_corpus)"
   ]
  },
  {
   "cell_type": "code",
   "execution_count": 18,
   "id": "bdf35cb3",
   "metadata": {},
   "outputs": [],
   "source": [
    "model.train(train_corpus, total_examples=model.corpus_count, epochs=model.epochs)"
   ]
  },
  {
   "cell_type": "code",
   "execution_count": 19,
   "id": "0de2598a",
   "metadata": {},
   "outputs": [
    {
     "data": {
      "text/plain": [
       "<gensim.models.keyedvectors.KeyedVectors at 0x20f245ba080>"
      ]
     },
     "execution_count": 19,
     "metadata": {},
     "output_type": "execute_result"
    }
   ],
   "source": [
    "model.dv"
   ]
  },
  {
   "cell_type": "markdown",
   "id": "738de4b4",
   "metadata": {},
   "source": [
    "### Task 1:\n",
    "Assess validity of the model"
   ]
  },
  {
   "cell_type": "code",
   "execution_count": 20,
   "id": "a754e74c",
   "metadata": {},
   "outputs": [
    {
     "name": "stdout",
     "output_type": "stream",
     "text": [
      "[-0.16021617 -0.01150709  0.27132425  0.38358036 -0.3544724  -0.0689206\n",
      "  0.4238491  -0.4716654  -0.17326868  0.05555303  0.54163843  0.00113569\n",
      "  0.00160924 -0.00656376 -0.74199665 -0.25595453  0.07924189 -0.43915245\n",
      "  0.02996937  0.17150386  0.1060473   0.04494313  0.16087134 -0.719976\n",
      " -0.15444705  0.27541524  0.46607977 -0.4355618  -0.42564014 -0.05880697\n",
      " -0.08311263  0.4945154   0.5161619   0.10167328 -0.44751242 -0.11406519\n",
      " -0.17334495 -0.35973993  0.49473974 -0.8351739   0.0500171  -0.05214887\n",
      " -0.10714909 -0.12761602  0.02966735 -0.09892797  0.28122318  0.35298225\n",
      " -0.24528234 -0.20091583]\n"
     ]
    }
   ],
   "source": [
    "vector = model.infer_vector(['only', 'you', 'can', 'prevent', 'forest', 'fires'])\n",
    "print(vector)"
   ]
  },
  {
   "cell_type": "code",
   "execution_count": 21,
   "id": "98c3a505",
   "metadata": {},
   "outputs": [
    {
     "ename": "KeyboardInterrupt",
     "evalue": "",
     "output_type": "error",
     "traceback": [
      "\u001b[1;31m---------------------------------------------------------------------------\u001b[0m",
      "\u001b[1;31mKeyboardInterrupt\u001b[0m                         Traceback (most recent call last)",
      "Cell \u001b[1;32mIn[21], line 5\u001b[0m\n\u001b[0;32m      3\u001b[0m \u001b[38;5;28;01mfor\u001b[39;00m doc_id \u001b[38;5;129;01min\u001b[39;00m \u001b[38;5;28mrange\u001b[39m(\u001b[38;5;28mlen\u001b[39m(train_corpus)):\n\u001b[0;32m      4\u001b[0m     inferred_vector \u001b[38;5;241m=\u001b[39m model\u001b[38;5;241m.\u001b[39minfer_vector(train_corpus[doc_id]\u001b[38;5;241m.\u001b[39mwords)\n\u001b[1;32m----> 5\u001b[0m     sims \u001b[38;5;241m=\u001b[39m \u001b[43mmodel\u001b[49m\u001b[38;5;241;43m.\u001b[39;49m\u001b[43mdv\u001b[49m\u001b[38;5;241;43m.\u001b[39;49m\u001b[43mmost_similar\u001b[49m\u001b[43m(\u001b[49m\u001b[43m[\u001b[49m\u001b[43minferred_vector\u001b[49m\u001b[43m]\u001b[49m\u001b[43m,\u001b[49m\u001b[43m \u001b[49m\u001b[43mtopn\u001b[49m\u001b[38;5;241;43m=\u001b[39;49m\u001b[38;5;28;43mlen\u001b[39;49m\u001b[43m(\u001b[49m\u001b[43mmodel\u001b[49m\u001b[38;5;241;43m.\u001b[39;49m\u001b[43mdv\u001b[49m\u001b[43m)\u001b[49m\u001b[43m)\u001b[49m\n\u001b[0;32m      6\u001b[0m     rank \u001b[38;5;241m=\u001b[39m [docid \u001b[38;5;28;01mfor\u001b[39;00m docid, sim \u001b[38;5;129;01min\u001b[39;00m sims]\u001b[38;5;241m.\u001b[39mindex(doc_id)\n\u001b[0;32m      7\u001b[0m     ranks\u001b[38;5;241m.\u001b[39mappend(rank)\n",
      "File \u001b[1;32mD:\\ana\\envs\\nlp-env\\lib\\site-packages\\gensim\\models\\keyedvectors.py:852\u001b[0m, in \u001b[0;36mKeyedVectors.most_similar\u001b[1;34m(self, positive, negative, topn, clip_start, clip_end, restrict_vocab, indexer)\u001b[0m\n\u001b[0;32m    850\u001b[0m \u001b[38;5;28;01mif\u001b[39;00m \u001b[38;5;129;01mnot\u001b[39;00m topn:\n\u001b[0;32m    851\u001b[0m     \u001b[38;5;28;01mreturn\u001b[39;00m dists\n\u001b[1;32m--> 852\u001b[0m best \u001b[38;5;241m=\u001b[39m \u001b[43mmatutils\u001b[49m\u001b[38;5;241;43m.\u001b[39;49m\u001b[43margsort\u001b[49m\u001b[43m(\u001b[49m\u001b[43mdists\u001b[49m\u001b[43m,\u001b[49m\u001b[43m \u001b[49m\u001b[43mtopn\u001b[49m\u001b[38;5;241;43m=\u001b[39;49m\u001b[43mtopn\u001b[49m\u001b[43m \u001b[49m\u001b[38;5;241;43m+\u001b[39;49m\u001b[43m \u001b[49m\u001b[38;5;28;43mlen\u001b[39;49m\u001b[43m(\u001b[49m\u001b[43mall_keys\u001b[49m\u001b[43m)\u001b[49m\u001b[43m,\u001b[49m\u001b[43m \u001b[49m\u001b[43mreverse\u001b[49m\u001b[38;5;241;43m=\u001b[39;49m\u001b[38;5;28;43;01mTrue\u001b[39;49;00m\u001b[43m)\u001b[49m\n\u001b[0;32m    853\u001b[0m \u001b[38;5;66;03m# ignore (don't return) keys from the input\u001b[39;00m\n\u001b[0;32m    854\u001b[0m result \u001b[38;5;241m=\u001b[39m [\n\u001b[0;32m    855\u001b[0m     (\u001b[38;5;28mself\u001b[39m\u001b[38;5;241m.\u001b[39mindex_to_key[sim \u001b[38;5;241m+\u001b[39m clip_start], \u001b[38;5;28mfloat\u001b[39m(dists[sim]))\n\u001b[0;32m    856\u001b[0m     \u001b[38;5;28;01mfor\u001b[39;00m sim \u001b[38;5;129;01min\u001b[39;00m best \u001b[38;5;28;01mif\u001b[39;00m (sim \u001b[38;5;241m+\u001b[39m clip_start) \u001b[38;5;129;01mnot\u001b[39;00m \u001b[38;5;129;01min\u001b[39;00m all_keys\n\u001b[0;32m    857\u001b[0m ]\n",
      "File \u001b[1;32mD:\\ana\\envs\\nlp-env\\lib\\site-packages\\gensim\\matutils.py:79\u001b[0m, in \u001b[0;36margsort\u001b[1;34m(x, topn, reverse)\u001b[0m\n\u001b[0;32m     77\u001b[0m     x \u001b[38;5;241m=\u001b[39m \u001b[38;5;241m-\u001b[39mx\n\u001b[0;32m     78\u001b[0m \u001b[38;5;28;01mif\u001b[39;00m topn \u001b[38;5;241m>\u001b[39m\u001b[38;5;241m=\u001b[39m x\u001b[38;5;241m.\u001b[39msize \u001b[38;5;129;01mor\u001b[39;00m \u001b[38;5;129;01mnot\u001b[39;00m \u001b[38;5;28mhasattr\u001b[39m(np, \u001b[38;5;124m'\u001b[39m\u001b[38;5;124margpartition\u001b[39m\u001b[38;5;124m'\u001b[39m):\n\u001b[1;32m---> 79\u001b[0m     \u001b[38;5;28;01mreturn\u001b[39;00m \u001b[43mnp\u001b[49m\u001b[38;5;241;43m.\u001b[39;49m\u001b[43margsort\u001b[49m\u001b[43m(\u001b[49m\u001b[43mx\u001b[49m\u001b[43m)\u001b[49m[:topn]\n\u001b[0;32m     80\u001b[0m \u001b[38;5;66;03m# np >= 1.8 has a fast partial argsort, use that!\u001b[39;00m\n\u001b[0;32m     81\u001b[0m most_extreme \u001b[38;5;241m=\u001b[39m np\u001b[38;5;241m.\u001b[39margpartition(x, topn)[:topn]\n",
      "File \u001b[1;32mD:\\ana\\envs\\nlp-env\\lib\\site-packages\\numpy\\core\\fromnumeric.py:1133\u001b[0m, in \u001b[0;36margsort\u001b[1;34m(a, axis, kind, order)\u001b[0m\n\u001b[0;32m   1025\u001b[0m \u001b[38;5;129m@array_function_dispatch\u001b[39m(_argsort_dispatcher)\n\u001b[0;32m   1026\u001b[0m \u001b[38;5;28;01mdef\u001b[39;00m\u001b[38;5;250m \u001b[39m\u001b[38;5;21margsort\u001b[39m(a, axis\u001b[38;5;241m=\u001b[39m\u001b[38;5;241m-\u001b[39m\u001b[38;5;241m1\u001b[39m, kind\u001b[38;5;241m=\u001b[39m\u001b[38;5;28;01mNone\u001b[39;00m, order\u001b[38;5;241m=\u001b[39m\u001b[38;5;28;01mNone\u001b[39;00m):\n\u001b[0;32m   1027\u001b[0m \u001b[38;5;250m    \u001b[39m\u001b[38;5;124;03m\"\"\"\u001b[39;00m\n\u001b[0;32m   1028\u001b[0m \u001b[38;5;124;03m    Returns the indices that would sort an array.\u001b[39;00m\n\u001b[0;32m   1029\u001b[0m \n\u001b[1;32m   (...)\u001b[0m\n\u001b[0;32m   1131\u001b[0m \n\u001b[0;32m   1132\u001b[0m \u001b[38;5;124;03m    \"\"\"\u001b[39;00m\n\u001b[1;32m-> 1133\u001b[0m     \u001b[38;5;28;01mreturn\u001b[39;00m \u001b[43m_wrapfunc\u001b[49m\u001b[43m(\u001b[49m\u001b[43ma\u001b[49m\u001b[43m,\u001b[49m\u001b[43m \u001b[49m\u001b[38;5;124;43m'\u001b[39;49m\u001b[38;5;124;43margsort\u001b[39;49m\u001b[38;5;124;43m'\u001b[39;49m\u001b[43m,\u001b[49m\u001b[43m \u001b[49m\u001b[43maxis\u001b[49m\u001b[38;5;241;43m=\u001b[39;49m\u001b[43maxis\u001b[49m\u001b[43m,\u001b[49m\u001b[43m \u001b[49m\u001b[43mkind\u001b[49m\u001b[38;5;241;43m=\u001b[39;49m\u001b[43mkind\u001b[49m\u001b[43m,\u001b[49m\u001b[43m \u001b[49m\u001b[43morder\u001b[49m\u001b[38;5;241;43m=\u001b[39;49m\u001b[43morder\u001b[49m\u001b[43m)\u001b[49m\n",
      "File \u001b[1;32mD:\\ana\\envs\\nlp-env\\lib\\site-packages\\numpy\\core\\fromnumeric.py:59\u001b[0m, in \u001b[0;36m_wrapfunc\u001b[1;34m(obj, method, *args, **kwds)\u001b[0m\n\u001b[0;32m     56\u001b[0m     \u001b[38;5;28;01mreturn\u001b[39;00m _wrapit(obj, method, \u001b[38;5;241m*\u001b[39margs, \u001b[38;5;241m*\u001b[39m\u001b[38;5;241m*\u001b[39mkwds)\n\u001b[0;32m     58\u001b[0m \u001b[38;5;28;01mtry\u001b[39;00m:\n\u001b[1;32m---> 59\u001b[0m     \u001b[38;5;28;01mreturn\u001b[39;00m bound(\u001b[38;5;241m*\u001b[39margs, \u001b[38;5;241m*\u001b[39m\u001b[38;5;241m*\u001b[39mkwds)\n\u001b[0;32m     60\u001b[0m \u001b[38;5;28;01mexcept\u001b[39;00m \u001b[38;5;167;01mTypeError\u001b[39;00m:\n\u001b[0;32m     61\u001b[0m     \u001b[38;5;66;03m# A TypeError occurs if the object does have such a method in its\u001b[39;00m\n\u001b[0;32m     62\u001b[0m     \u001b[38;5;66;03m# class, but its signature is not identical to that of NumPy's. This\u001b[39;00m\n\u001b[1;32m   (...)\u001b[0m\n\u001b[0;32m     66\u001b[0m     \u001b[38;5;66;03m# Call _wrapit from within the except clause to ensure a potential\u001b[39;00m\n\u001b[0;32m     67\u001b[0m     \u001b[38;5;66;03m# exception has a traceback chain.\u001b[39;00m\n\u001b[0;32m     68\u001b[0m     \u001b[38;5;28;01mreturn\u001b[39;00m _wrapit(obj, method, \u001b[38;5;241m*\u001b[39margs, \u001b[38;5;241m*\u001b[39m\u001b[38;5;241m*\u001b[39mkwds)\n",
      "\u001b[1;31mKeyboardInterrupt\u001b[0m: "
     ]
    }
   ],
   "source": [
    "ranks = []\n",
    "second_ranks = []\n",
    "for doc_id in range(len(train_corpus)):\n",
    "    inferred_vector = model.infer_vector(train_corpus[doc_id].words)\n",
    "    sims = model.dv.most_similar([inferred_vector], topn=len(model.dv))\n",
    "    rank = [docid for docid, sim in sims].index(doc_id)\n",
    "    ranks.append(rank)\n",
    "\n",
    "    second_ranks.append(sims[1])\n",
    "\n",
    "import collections\n",
    "\n",
    "counter = collections.Counter(ranks)\n",
    "print(counter)"
   ]
  },
  {
   "attachments": {
    "169fdbcc-7d04-43d7-b629-e5fec8b532d5.png": {
     "image/png": "[encoded data removed]"
    }
   },
   "cell_type": "markdown",
   "id": "1e0fde67-83e0-4df3-b829-59e49c406ec2",
   "metadata": {},
   "source": [
    "![Screenshot 2025-06-15 222947.png](attachment:169fdbcc-7d04-43d7-b629-e5fec8b532d5.png)"
   ]
  },
  {
   "cell_type": "code",
   "execution_count": 22,
   "id": "f4f8abf5",
   "metadata": {},
   "outputs": [
    {
     "name": "stdout",
     "output_type": "stream",
     "text": [
      "Test Document (114874): «resact reinforcing long term engagement in sequential recommendation with residual actor long term engagement is preferred over immediate engagement in sequential recommendation as it directly affects product operational metrics such as daily active users daus and dwell time meanwhile reinforcement learning rl is widely regarded as promising framework for optimizing long term engagement in sequential recommendation however due to expensive online interactions it is very difficult for rl algorithms to perform state action value estimation exploration and feature extraction when optimizing long term engagement in this paper we propose resact which seeks policy that is close to but better than the online serving policy in this way we can collect sufficient data near the learned policy so that state action values can be properly estimated and there is no need to perform online exploration directly optimizing this policy is difficult due to the huge policy space resact instead solves it by first reconstructing the online behaviors and then improving it our main contributions are fourfold first we design generative model which reconstructs behaviors of the online serving policy by sampling multiple action estimators second we design an effective learning paradigm to train the residual actor which can output the residual for action improvement third we facilitate the extraction of features with two information theoretical regularizers to confirm the expressiveness and conciseness of features fourth we conduct extensive experiments on real world dataset consisting of millions of sessions and our method significantly outperforms the state of the art baselines in various of long term engagement optimization tasks»\n",
      "\n",
      "SIMILAR/DISSIMILAR DOCS PER MODEL Doc2Vec<dm/m,d50,n5,w5,mc2,s0.001,t3>:\n",
      "\n",
      "MOST (114874, 0.9727543592453003): «resact reinforcing long term engagement in sequential recommendation with residual actor long term engagement is preferred over immediate engagement in sequential recommendation as it directly affects product operational metrics such as daily active users daus and dwell time meanwhile reinforcement learning rl is widely regarded as promising framework for optimizing long term engagement in sequential recommendation however due to expensive online interactions it is very difficult for rl algorithms to perform state action value estimation exploration and feature extraction when optimizing long term engagement in this paper we propose resact which seeks policy that is close to but better than the online serving policy in this way we can collect sufficient data near the learned policy so that state action values can be properly estimated and there is no need to perform online exploration directly optimizing this policy is difficult due to the huge policy space resact instead solves it by first reconstructing the online behaviors and then improving it our main contributions are fourfold first we design generative model which reconstructs behaviors of the online serving policy by sampling multiple action estimators second we design an effective learning paradigm to train the residual actor which can output the residual for action improvement third we facilitate the extraction of features with two information theoretical regularizers to confirm the expressiveness and conciseness of features fourth we conduct extensive experiments on real world dataset consisting of millions of sessions and our method significantly outperforms the state of the art baselines in various of long term engagement optimization tasks»\n",
      "\n",
      "MEDIAN (113121, 0.08300091326236725): «nispa neuro inspired stability plasticity adaptation for continual learning in sparse networks the goal of continual learning cl is to learn different tasks over time the main desiderata associated with cl are to maintain performance on older tasks leverage the latter to improve learning of future tasks and to introduce minimal overhead in the training process for instance to not require growing model or retraining we propose the neuro inspired stability plasticity adaptation nispa architecture that addresses these desiderata through sparse neural network with fixed density nispa forms stable paths to preserve learned knowledge from older tasks also nispa uses connection rewiring to create new plastic paths that reuse existing knowledge on novel tasks our extensive evaluation on emnist fashionmnist cifar and cifar datasets shows that nispa significantly outperforms representative state of the art continual learning baselines and it uses up to ten times fewer learnable parameters compared to baselines we also make the case that sparsity is an essential ingredient for continual learning the nispa code is available at https github com burakgurbuz nispa»\n",
      "\n",
      "LEAST (75847, -0.43749698996543884): «center smoothing certified robustness for networks with structured outputs the study of provable adversarial robustness has mostly been limited to classification tasks and models with one dimensional real valued outputs we extend the scope of certifiable robustness to problems with more general and structured outputs like sets images language etc we model the output space as metric space under distance similarity function such as intersection over union perceptual similarity total variation distance etc such models are used in many machine learning problems like image segmentation object detection generative models image audio to text systems etc based on robustness technique called randomized smoothing our textit center smoothing procedure can produce models with the guarantee that the change in the output as measured by the distance metric remains small for any norm bounded adversarial perturbation of the input we apply our method to create certifiably robust models with disparate output spaces from sets to images and show that it yields meaningful certificates without significantly degrading the performance of the base model code for our experiments is available at https github com aounon center smoothing»\n",
      "\n"
     ]
    }
   ],
   "source": [
    "import random\n",
    "\n",
    "# Pick a random document from the test corpus and infer a vector from the model\n",
    "doc_id = random.randint(0, len(test_corpus) - 1)\n",
    "inferred_vector = model.infer_vector(test_corpus[doc_id])\n",
    "sims = model.dv.most_similar([inferred_vector], topn=len(model.dv))\n",
    "\n",
    "# Compare and print the most/median/least similar documents from the train corpus\n",
    "print('Test Document ({}): «{}»\\n'.format(doc_id, ' '.join(test_corpus[doc_id])))\n",
    "print(u'SIMILAR/DISSIMILAR DOCS PER MODEL %s:\\n' % model)\n",
    "for label, index in [('MOST', 0), ('MEDIAN', len(sims)//2), ('LEAST', len(sims) - 1)]:\n",
    "    print(u'%s %s: «%s»\\n' % (label, sims[index], ' '.join(train_corpus[sims[index][0]].words)))"
   ]
  },
  {
   "cell_type": "code",
   "execution_count": null,
   "id": "8cd09cdc-753f-4d04-ab78-d3b35f70d8f5",
   "metadata": {},
   "outputs": [],
   "source": []
  }
 ],
 "metadata": {
  "kernelspec": {
   "display_name": "Python 3 (ipykernel)",
   "language": "python",
   "name": "python3"
  },
  "language_info": {
   "codemirror_mode": {
    "name": "ipython",
    "version": 3
   },
   "file_extension": ".py",
   "mimetype": "text/x-python",
   "name": "python",
   "nbconvert_exporter": "python",
   "pygments_lexer": "ipython3",
   "version": "3.10.18"
  }
 },
 "nbformat": 4,
 "nbformat_minor": 5
}
