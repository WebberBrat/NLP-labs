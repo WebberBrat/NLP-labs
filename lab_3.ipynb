{
 "cells": [
  {
   "cell_type": "markdown",
   "id": "4b4af17a",
   "metadata": {},
   "source": [
    "### Task 0:\n",
    "Execute the notebook and complete listed exercises (between CODE_START and CODE_END blocks)."
   ]
  },
  {
   "cell_type": "code",
   "execution_count": 2,
   "id": "37334a87",
   "metadata": {},
   "outputs": [],
   "source": [
    "import nltk\n",
    "from nltk.corpus import twitter_samples"
   ]
  },
  {
   "cell_type": "code",
   "execution_count": 3,
   "id": "d50876cf",
   "metadata": {},
   "outputs": [
    {
     "data": {
      "text/plain": [
       "'Spiritual Ritual Festival (Népal)\\nBeginning of Line-up :)\\nIt is left for the line-up (y)\\nSee more at:... http://t.co/QMNz62OEuc'"
      ]
     },
     "execution_count": 3,
     "metadata": {},
     "output_type": "execute_result"
    }
   ],
   "source": [
    "positive_tweets = twitter_samples.strings('positive_tweets.json')\n",
    "negative_tweets = twitter_samples.strings('negative_tweets.json')\n",
    "\n",
    "positive_tweets[27]"
   ]
  },
  {
   "cell_type": "code",
   "execution_count": 4,
   "id": "dd2be88d",
   "metadata": {},
   "outputs": [
    {
     "name": "stdout",
     "output_type": "stream",
     "text": [
      "['Spiritual', 'Ritual', 'Festival', '(', 'Népal', ')', 'Beginning', 'of', 'Line-up', ':)', 'It', 'is', 'left', 'for', 'the', 'line-up', '(', 'y', ')', 'See', 'more', 'at', ':', '...', 'http://t.co/QMNz62OEuc']\n"
     ]
    }
   ],
   "source": [
    "tweet_tokens = twitter_samples.tokenized('positive_tweets.json')\n",
    "print(tweet_tokens[27])"
   ]
  },
  {
   "cell_type": "code",
   "execution_count": 5,
   "id": "03c963e5",
   "metadata": {},
   "outputs": [],
   "source": [
    "from nltk.tag import pos_tag"
   ]
  },
  {
   "cell_type": "code",
   "execution_count": 6,
   "id": "b43a0d9a",
   "metadata": {},
   "outputs": [
    {
     "data": {
      "text/plain": [
       "[('Spiritual', 'JJ'),\n",
       " ('Ritual', 'NNP'),\n",
       " ('Festival', 'NNP'),\n",
       " ('(', '('),\n",
       " ('Népal', 'NNP'),\n",
       " (')', ')'),\n",
       " ('Beginning', 'NNP'),\n",
       " ('of', 'IN'),\n",
       " ('Line-up', 'NNP'),\n",
       " (':)', 'NNP'),\n",
       " ('It', 'PRP'),\n",
       " ('is', 'VBZ'),\n",
       " ('left', 'VBN'),\n",
       " ('for', 'IN'),\n",
       " ('the', 'DT'),\n",
       " ('line-up', 'NN'),\n",
       " ('(', '('),\n",
       " ('y', 'NN'),\n",
       " (')', ')'),\n",
       " ('See', 'VB'),\n",
       " ('more', 'JJR'),\n",
       " ('at', 'IN'),\n",
       " (':', ':'),\n",
       " ('...', ':'),\n",
       " ('http://t.co/QMNz62OEuc', 'NN')]"
      ]
     },
     "execution_count": 6,
     "metadata": {},
     "output_type": "execute_result"
    }
   ],
   "source": [
    "pos_tag(tweet_tokens[27])"
   ]
  },
  {
   "cell_type": "code",
   "execution_count": 7,
   "id": "07df1224",
   "metadata": {
    "scrolled": true
   },
   "outputs": [
    {
     "name": "stderr",
     "output_type": "stream",
     "text": [
      "[nltk_data] Downloading package wordnet to\n",
      "[nltk_data]     C:\\Users\\член\\AppData\\Roaming\\nltk_data...\n",
      "[nltk_data]   Package wordnet is already up-to-date!\n"
     ]
    },
    {
     "data": {
      "text/plain": [
       "True"
      ]
     },
     "execution_count": 7,
     "metadata": {},
     "output_type": "execute_result"
    }
   ],
   "source": [
    "nltk.download('wordnet')"
   ]
  },
  {
   "cell_type": "markdown",
   "id": "210394dc",
   "metadata": {},
   "source": [
    "### Synonyms"
   ]
  },
  {
   "cell_type": "code",
   "execution_count": 9,
   "id": "a424556f",
   "metadata": {},
   "outputs": [
    {
     "name": "stdout",
     "output_type": "stream",
     "text": [
      "synsets:, [Synset('car.n.01'), Synset('car.n.02'), Synset('car.n.03'), Synset('car.n.04'), Synset('cable_car.n.01')]------------[Synset('borsch.n.01')]\n",
      "lemma names:, ['car', 'auto', 'automobile', 'machine', 'motorcar']------------['borsch', 'borsh', 'borscht', 'borsht', 'borshch', 'bortsch']\n"
     ]
    }
   ],
   "source": [
    "from nltk.corpus import wordnet as wn\n",
    "\n",
    "word_synset = wn.synsets(\"car\")\n",
    "word_synset_b = wn.synsets(\"borsch\")\n",
    "print(f\"synsets:, {word_synset}------------{word_synset_b}\")\n",
    "print(f\"lemma names:, {word_synset[0].lemma_names()}------------{word_synset_b[0].lemma_names()}\")"
   ]
  },
  {
   "cell_type": "code",
   "execution_count": 10,
   "id": "9a8e87fe",
   "metadata": {},
   "outputs": [
    {
     "data": {
      "text/plain": [
       "('a motor vehicle with four wheels; usually propelled by an internal combustion engine',\n",
       " 'a Russian or Polish soup usually containing beet juice as a foundation')"
      ]
     },
     "execution_count": 10,
     "metadata": {},
     "output_type": "execute_result"
    }
   ],
   "source": [
    "word_synset[0].definition(), word_synset_b[0].definition()"
   ]
  },
  {
   "cell_type": "code",
   "execution_count": 11,
   "id": "850442e6",
   "metadata": {},
   "outputs": [
    {
     "data": {
      "text/plain": [
       "(['he needs a car to get to work'], [])"
      ]
     },
     "execution_count": 11,
     "metadata": {},
     "output_type": "execute_result"
    }
   ],
   "source": [
    "word_synset[0].examples(), word_synset_b[0].examples()"
   ]
  },
  {
   "cell_type": "code",
   "execution_count": 12,
   "id": "599cbbbd",
   "metadata": {},
   "outputs": [
    {
     "data": {
      "text/plain": [
       "'a wheeled vehicle adapted to the rails of railroad'"
      ]
     },
     "execution_count": 12,
     "metadata": {},
     "output_type": "execute_result"
    }
   ],
   "source": [
    "word_synset[1].definition()"
   ]
  },
  {
   "cell_type": "code",
   "execution_count": 13,
   "id": "6a01371a",
   "metadata": {},
   "outputs": [
    {
     "data": {
      "text/plain": [
       "['three cars had jumped the rails']"
      ]
     },
     "execution_count": 13,
     "metadata": {},
     "output_type": "execute_result"
    }
   ],
   "source": [
    "word_synset[1].examples()"
   ]
  },
  {
   "cell_type": "markdown",
   "id": "b6394bb0",
   "metadata": {},
   "source": [
    "### Hyponims"
   ]
  },
  {
   "cell_type": "code",
   "execution_count": 15,
   "id": "143cd62f",
   "metadata": {},
   "outputs": [
    {
     "data": {
      "text/plain": [
       "[Synset('ambulance.n.01'),\n",
       " Synset('beach_wagon.n.01'),\n",
       " Synset('bus.n.04'),\n",
       " Synset('cab.n.03'),\n",
       " Synset('compact.n.03'),\n",
       " Synset('convertible.n.01'),\n",
       " Synset('coupe.n.01'),\n",
       " Synset('cruiser.n.01'),\n",
       " Synset('electric.n.01'),\n",
       " Synset('gas_guzzler.n.01'),\n",
       " Synset('hardtop.n.01'),\n",
       " Synset('hatchback.n.01'),\n",
       " Synset('horseless_carriage.n.01'),\n",
       " Synset('hot_rod.n.01'),\n",
       " Synset('jeep.n.01'),\n",
       " Synset('limousine.n.01'),\n",
       " Synset('loaner.n.02'),\n",
       " Synset('minicar.n.01'),\n",
       " Synset('minivan.n.01'),\n",
       " Synset('model_t.n.01'),\n",
       " Synset('pace_car.n.01'),\n",
       " Synset('racer.n.02'),\n",
       " Synset('roadster.n.01'),\n",
       " Synset('sedan.n.01'),\n",
       " Synset('sport_utility.n.01'),\n",
       " Synset('sports_car.n.01'),\n",
       " Synset('stanley_steamer.n.01'),\n",
       " Synset('stock_car.n.01'),\n",
       " Synset('subcompact.n.01'),\n",
       " Synset('touring_car.n.01'),\n",
       " Synset('used-car.n.01')]"
      ]
     },
     "execution_count": 15,
     "metadata": {},
     "output_type": "execute_result"
    }
   ],
   "source": [
    "word_synset[0].hyponyms()"
   ]
  },
  {
   "cell_type": "markdown",
   "id": "f3749eb7",
   "metadata": {},
   "source": [
    "### Hypernyms"
   ]
  },
  {
   "cell_type": "code",
   "execution_count": 17,
   "id": "40008852",
   "metadata": {},
   "outputs": [
    {
     "data": {
      "text/plain": [
       "[Synset('motor_vehicle.n.01')]"
      ]
     },
     "execution_count": 17,
     "metadata": {},
     "output_type": "execute_result"
    }
   ],
   "source": [
    "word_synset[0].hypernyms()"
   ]
  },
  {
   "cell_type": "code",
   "execution_count": 18,
   "id": "aa281668",
   "metadata": {},
   "outputs": [
    {
     "name": "stdout",
     "output_type": "stream",
     "text": [
      "['entity.n.01', 'physical_entity.n.01', 'object.n.01', 'whole.n.02', 'living_thing.n.01', 'organism.n.01', 'plant.n.02', 'vascular_plant.n.01', 'woody_plant.n.01', 'tree.n.01']\n"
     ]
    }
   ],
   "source": [
    "tree = wn.synsets(\"tree\")[0]\n",
    "paths = tree.hypernym_paths()\n",
    "for p in paths:\n",
    "    print([synset.name() for synset in p])"
   ]
  },
  {
   "cell_type": "markdown",
   "id": "3a56be97",
   "metadata": {},
   "source": [
    "### Meronyms"
   ]
  },
  {
   "cell_type": "code",
   "execution_count": 20,
   "id": "423e8d65",
   "metadata": {},
   "outputs": [
    {
     "data": {
      "text/plain": [
       "[Synset('burl.n.02'),\n",
       " Synset('crown.n.07'),\n",
       " Synset('limb.n.02'),\n",
       " Synset('stump.n.01'),\n",
       " Synset('trunk.n.01')]"
      ]
     },
     "execution_count": 20,
     "metadata": {},
     "output_type": "execute_result"
    }
   ],
   "source": [
    "tree.part_meronyms()"
   ]
  },
  {
   "cell_type": "code",
   "execution_count": 21,
   "id": "3002230f",
   "metadata": {},
   "outputs": [
    {
     "data": {
      "text/plain": [
       "[Synset('heartwood.n.01'), Synset('sapwood.n.01')]"
      ]
     },
     "execution_count": 21,
     "metadata": {},
     "output_type": "execute_result"
    }
   ],
   "source": [
    "tree.substance_meronyms()"
   ]
  },
  {
   "cell_type": "markdown",
   "id": "b129c003",
   "metadata": {},
   "source": [
    "### Holonyms"
   ]
  },
  {
   "cell_type": "code",
   "execution_count": 23,
   "id": "3f3bdfd4",
   "metadata": {},
   "outputs": [
    {
     "data": {
      "text/plain": [
       "[Synset('forest.n.01')]"
      ]
     },
     "execution_count": 23,
     "metadata": {},
     "output_type": "execute_result"
    }
   ],
   "source": [
    "tree.member_holonyms()"
   ]
  },
  {
   "cell_type": "markdown",
   "id": "badfc68f",
   "metadata": {},
   "source": [
    "### Lemmatization function"
   ]
  },
  {
   "cell_type": "code",
   "execution_count": 25,
   "id": "ca55ef6f",
   "metadata": {},
   "outputs": [],
   "source": [
    "from nltk.stem.wordnet import WordNetLemmatizer\n",
    "tokens = tweet_tokens[50]"
   ]
  },
  {
   "cell_type": "code",
   "execution_count": 26,
   "id": "966a7e70",
   "metadata": {},
   "outputs": [],
   "source": [
    "lemmatizer = WordNetLemmatizer()"
   ]
  },
  {
   "cell_type": "code",
   "execution_count": 27,
   "id": "64ad7e87",
   "metadata": {},
   "outputs": [
    {
     "data": {
      "text/plain": [
       "['The', 'child', 'were', 'driving', 'car']"
      ]
     },
     "execution_count": 27,
     "metadata": {},
     "output_type": "execute_result"
    }
   ],
   "source": [
    "from nltk.stem import WordNetLemmatizer\n",
    "lemmatizer = WordNetLemmatizer()\n",
    "def lemmatize_sentence(tokens):\n",
    "    lemmatized_sentence = []\n",
    "\n",
    "    # CODE_START\n",
    "    for token in tokens:\n",
    "        lemma = lemmatizer.lemmatize(token)\n",
    "        lemmatized_sentence.append(lemma) \n",
    "    # CODE_END\n",
    "\n",
    "    return lemmatized_sentence\n",
    "\n",
    "tokens = [\"The\", \"children\", \"were\", \"driving\", \"cars\"]\n",
    "lemmatize_sentence(tokens)"
   ]
  },
  {
   "cell_type": "markdown",
   "id": "4e10cf98",
   "metadata": {},
   "source": [
    "### Processing"
   ]
  },
  {
   "cell_type": "code",
   "execution_count": 29,
   "id": "029d4811",
   "metadata": {},
   "outputs": [
    {
     "name": "stdout",
     "output_type": "stream",
     "text": [
      "198\n",
      "a\n",
      "about\n",
      "above\n",
      "after\n",
      "again\n",
      "against\n",
      "ain\n",
      "all\n",
      "am\n",
      "an\n"
     ]
    }
   ],
   "source": [
    "from nltk.corpus import stopwords\n",
    "stop_words = stopwords.words('english')\n",
    "print(len(stop_words))\n",
    "for i in range(10):\n",
    "    print(stop_words[i])"
   ]
  },
  {
   "cell_type": "code",
   "execution_count": 30,
   "id": "089b6d8b",
   "metadata": {},
   "outputs": [],
   "source": [
    "import re, string\n",
    "from nltk.corpus import stopwords\n",
    "from nltk.tag import pos_tag\n",
    "from nltk.stem import WordNetLemmatizer\n",
    "from nltk.corpus import wordnet"
   ]
  },
  {
   "cell_type": "code",
   "execution_count": 31,
   "id": "5b02633c",
   "metadata": {},
   "outputs": [],
   "source": [
    "def process_tokens(tweet_tokens):\n",
    "    cleaned_tokens = []\n",
    "    stop_words = stopwords.words('english')\n",
    "    lemmatizer = WordNetLemmatizer()\n",
    "\n",
    "    def get_wordnet_pos(tag):\n",
    "        if tag.startswith('NN'):\n",
    "            return wordnet.NOUN\n",
    "        elif tag.startswith('VB'):\n",
    "            return wordnet.VERB\n",
    "        elif tag.startswith('JJ'):\n",
    "            return wordnet.ADJ\n",
    "        elif tag.startswith('RB'):\n",
    "            return wordnet.ADV\n",
    "        else:\n",
    "            return wordnet.NOUN  # Default to noun\n",
    "\n",
    "    for token, tag in pos_tag(tweet_tokens):\n",
    "        token_lower = token.lower()\n",
    "        # Delete URLs and mentions\n",
    "        if re.match(r'^https?://', token_lower) or token_lower.startswith('@'):\n",
    "            continue\n",
    "        # Delete stop words and punctuation\n",
    "        if token_lower in stop_words or token_lower in string.punctuation:\n",
    "            continue\n",
    "        # Lemmatize the token\n",
    "        pos = get_wordnet_pos(tag)\n",
    "        lemmatized_token = lemmatizer.lemmatize(token_lower, pos)\n",
    "        cleaned_tokens.append(lemmatized_token)\n",
    "\n",
    "    return cleaned_tokens"
   ]
  },
  {
   "cell_type": "code",
   "execution_count": 32,
   "id": "59333e83",
   "metadata": {},
   "outputs": [
    {
     "name": "stdout",
     "output_type": "stream",
     "text": [
      "Before: ['@groovinshawn', 'they', 'are', 'rechargeable', 'and', 'it', 'normally', 'comes', 'with', 'a', 'charger', 'when', 'u', 'buy', 'it', ':)']\n",
      "After: ['rechargeable', 'normally', 'come', 'charger', 'u', 'buy', ':)']\n"
     ]
    }
   ],
   "source": [
    "print(\"Before:\", tweet_tokens[50])\n",
    "print(\"After:\", process_tokens(tweet_tokens[50]))"
   ]
  },
  {
   "cell_type": "code",
   "execution_count": 33,
   "id": "b3bf8e23",
   "metadata": {},
   "outputs": [],
   "source": [
    "# CODE_START\n",
    "\n",
    "positive_tweet_tokens = twitter_samples.tokenized('positive_tweets.json')\n",
    "negative_tweet_tokens = twitter_samples.tokenized('negative_tweets.json')\n",
    "\n",
    "positive_cleaned_tokens_list = [process_tokens(tokens) for tokens in positive_tweet_tokens]\n",
    "negative_cleaned_tokens_list = [process_tokens(tokens) for tokens in negative_tweet_tokens]\n",
    "\n",
    "# CODE_END"
   ]
  },
  {
   "cell_type": "code",
   "execution_count": 34,
   "id": "8b424c19",
   "metadata": {},
   "outputs": [
    {
     "name": "stdout",
     "output_type": "stream",
     "text": [
      "['Dang', 'that', 'is', 'some', 'rad', '@AbzuGame', '#fanart', '!', ':D', 'https://t.co/bI8k8tb9ht']\n",
      "['dang', 'rad', '#fanart', ':d']\n"
     ]
    }
   ],
   "source": [
    "print(positive_tweet_tokens[500])\n",
    "print(positive_cleaned_tokens_list[500])"
   ]
  },
  {
   "cell_type": "code",
   "execution_count": 35,
   "id": "6ee34db4",
   "metadata": {},
   "outputs": [],
   "source": [
    "def get_all_words(cleaned_tokens_list):\n",
    "  # CODE_START\n",
    "  for tokens in cleaned_tokens_list:\n",
    "    for token in tokens:\n",
    "        yield token\n",
    "  # CODE_END\n",
    "all_pos_words = get_all_words(positive_cleaned_tokens_list)"
   ]
  },
  {
   "cell_type": "code",
   "execution_count": 36,
   "id": "91707614",
   "metadata": {},
   "outputs": [
    {
     "name": "stdout",
     "output_type": "stream",
     "text": [
      "[(':)', 3691), (':-)', 701), (':d', 658), ('thanks', 383), ('follow', 362), ('u', 360), ('love', 337), ('...', 290), ('get', 269), ('good', 261)]\n"
     ]
    }
   ],
   "source": [
    "from nltk import FreqDist\n",
    "\n",
    "# CODE_START\n",
    "all_pos_words = get_all_words(positive_cleaned_tokens_list)\n",
    "freq_dist_pos = FreqDist(all_pos_words)\n",
    "\n",
    "# Виведемо 10 найпоширеніших слів\n",
    "print(freq_dist_pos.most_common(10))\n",
    "# CODE_END"
   ]
  },
  {
   "cell_type": "markdown",
   "id": "b6435868",
   "metadata": {},
   "source": [
    "### Task 1:\n",
    "Change the code so it removes hashtags during pre-processing. (E.g. #Ukraine)."
   ]
  },
  {
   "cell_type": "code",
   "execution_count": 38,
   "id": "206cd19b",
   "metadata": {},
   "outputs": [
    {
     "name": "stdout",
     "output_type": "stream",
     "text": [
      "Process Tokens No Tags: ['rechargeable', 'normally', 'come', 'charger', 'u', 'buy', ':)']\n"
     ]
    }
   ],
   "source": [
    "def process_tokens_no_tags(tweet_tokens):\n",
    "    cleaned_tokens = []\n",
    "    stop_words = stopwords.words('english')\n",
    "    lemmatizer = WordNetLemmatizer()\n",
    "\n",
    "    def get_wordnet_pos(tag):\n",
    "        if tag.startswith('NN'):\n",
    "            return wordnet.NOUN\n",
    "        elif tag.startswith('VB'):\n",
    "            return wordnet.VERB\n",
    "        elif tag.startswith('JJ'):\n",
    "            return wordnet.ADJ\n",
    "        elif tag.startswith('RB'):\n",
    "            return wordnet.ADV\n",
    "        else:\n",
    "            return wordnet.NOUN  \n",
    "\n",
    "    for token, tag in pos_tag(tweet_tokens):\n",
    "        token_lower = token.lower()\n",
    "        if re.match(r'^https?://', token_lower) or token_lower.startswith('@') or token_lower.startswith('#'): \n",
    "            continue\n",
    "    \n",
    "        if token_lower in stop_words or token_lower in string.punctuation:\n",
    "            continue\n",
    "    \n",
    "        pos = get_wordnet_pos(tag)\n",
    "        lemmatized_token = lemmatizer.lemmatize(token_lower, pos)\n",
    "        cleaned_tokens.append(lemmatized_token)\n",
    "\n",
    "    return cleaned_tokens\n",
    "\n",
    "print(\"Process Tokens No Tags:\", process_tokens_no_tags(tweet_tokens[50]))"
   ]
  },
  {
   "cell_type": "markdown",
   "id": "38b7f614",
   "metadata": {},
   "source": [
    "### Task 2:\n",
    "Modify process_tokens() so that instead of using lemmatizer.lemmatize(), it will use WordNet synsets."
   ]
  },
  {
   "cell_type": "code",
   "execution_count": 40,
   "id": "48b56f30",
   "metadata": {},
   "outputs": [],
   "source": [
    "def process_tokens_WordNet(tweet_tokens):\n",
    "    cleaned_tokens = []\n",
    "    stop_words = stopwords.words('english')\n",
    "\n",
    "    def get_wordnet_pos(tag):\n",
    "        if tag.startswith('NN'):\n",
    "            return wordnet.NOUN\n",
    "        elif tag.startswith('VB'):\n",
    "            return wordnet.VERB\n",
    "        elif tag.startswith('JJ'):\n",
    "            return wordnet.ADJ\n",
    "        elif tag.startswith('RB'):\n",
    "            return wordnet.ADV\n",
    "        else:\n",
    "            return wordnet.NOUN  # Default to noun\n",
    "\n",
    "    for token, tag in pos_tag(tweet_tokens):\n",
    "        token_lower = token.lower()\n",
    "\n",
    "        # Remove URLs, mentions, hashtags\n",
    "        if re.match(r'^https?://', token_lower) or token_lower.startswith('@') or token_lower.startswith('#'):\n",
    "            continue\n",
    "\n",
    "        # Remove stopwords and punctuation\n",
    "        if token_lower in stop_words or token_lower in string.punctuation:\n",
    "            continue\n",
    "\n",
    "        # Get POS for WordNet\n",
    "        pos = get_wordnet_pos(tag)\n",
    "\n",
    "        # Try getting the base lemma from WordNet synsets\n",
    "        synsets = wordnet.synsets(token_lower, pos=pos)\n",
    "        if synsets:\n",
    "            # Get the first lemma name of the first synset\n",
    "            base_form = synsets[0].lemmas()[0].name()\n",
    "        else:\n",
    "            base_form = token_lower  # fallback if no synset found\n",
    "\n",
    "        cleaned_tokens.append(base_form)\n",
    "        \n",
    "        return cleaned_tokens"
   ]
  },
  {
   "cell_type": "code",
   "execution_count": 41,
   "id": "9ad7fdac",
   "metadata": {},
   "outputs": [
    {
     "name": "stdout",
     "output_type": "stream",
     "text": [
      "Process Tokens Wordnet: ['rechargeable']\n"
     ]
    }
   ],
   "source": [
    "print(\"Process Tokens Wordnet:\", process_tokens_WordNet(tweet_tokens[50]))"
   ]
  },
  {
   "cell_type": "markdown",
   "id": "9e282e0a",
   "metadata": {},
   "source": [
    "### Task 3:\n",
    "Let’s suppose that semantic distance between words is the distance to the common semantic parent (hypernym). Write a function that will compute this distance between two words."
   ]
  },
  {
   "cell_type": "code",
   "execution_count": 43,
   "id": "42fa90f2",
   "metadata": {},
   "outputs": [
    {
     "name": "stdout",
     "output_type": "stream",
     "text": [
      "Semantic Distance: 17\n"
     ]
    }
   ],
   "source": [
    "from nltk.corpus import wordnet as wn\n",
    "\n",
    "def semantic_distance(word1, word2):\n",
    "    synsets1 = wn.synsets(word1)\n",
    "    synsets2 = wn.synsets(word2)\n",
    "\n",
    "    if not synsets1 or not synsets2:\n",
    "        return float('no match')  \n",
    "    syn1 = synsets1[0]\n",
    "    syn2 = synsets2[0]\n",
    "\n",
    "    common_hypernyms = syn1.lowest_common_hypernyms(syn2)\n",
    "\n",
    "    if not common_hypernyms:\n",
    "        return float('no common hypernyms')  \n",
    "\n",
    "    common_hyper = common_hypernyms[0]\n",
    "\n",
    "    dist1 = syn1.shortest_path_distance(common_hyper)\n",
    "    dist2 = syn2.shortest_path_distance(common_hyper)\n",
    "\n",
    "    if dist1 is None or dist2 is None:\n",
    "        return float('inf')\n",
    "\n",
    "    return dist1 + dist2\n",
    "print(f\"Semantic Distance: {semantic_distance('cat','car')}\")"
   ]
  },
  {
   "cell_type": "code",
   "execution_count": null,
   "id": "f5afd377-eb58-421a-b947-bb90b4385712",
   "metadata": {},
   "outputs": [],
   "source": []
  }
 ],
 "metadata": {
  "kernelspec": {
   "display_name": "Python 3 (ipykernel)",
   "language": "python",
   "name": "python3"
  },
  "language_info": {
   "codemirror_mode": {
    "name": "ipython",
    "version": 3
   },
   "file_extension": ".py",
   "mimetype": "text/x-python",
   "name": "python",
   "nbconvert_exporter": "python",
   "pygments_lexer": "ipython3",
   "version": "3.12.3"
  }
 },
 "nbformat": 4,
 "nbformat_minor": 5
}
